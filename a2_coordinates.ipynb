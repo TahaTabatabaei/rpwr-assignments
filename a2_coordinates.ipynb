{
 "cells": [
  {
   "cell_type": "markdown",
   "id": "560f5f7c-d645-47a9-b73a-21913d193b38",
   "metadata": {},
   "source": [
    "# Build your Turtlebot\n",
    "\n",
    "Build the TortugaBot with Visualization Markers\n",
    "\n",
    "Open Rviz. Set Global options > Fixed frame to `/world`\n",
    "\n",
    "Add Markers (or MarkerArray and publish to /pycram/viz_marker)\n",
    "\n",
    "```bash\n",
    "roslaunch turtle_tf turtle_tf_demo.launch\n",
    "```\n",
    "Move turtle with arrow keys in the terminal\n",
    "\n",
    "Execute the below python code blocks to publish arrow on the turtle1 frame\n",
    "\n",
    "https://wiki.ros.org/rviz/DisplayTypes/Marker\n"
   ]
  },
  {
   "cell_type": "markdown",
   "id": "f1ae606f-60dd-4703-bd70-58808bdb1331",
   "metadata": {},
   "source": [
    "## How to publish markers"
   ]
  },
  {
   "cell_type": "code",
   "execution_count": null,
   "id": "6c2448d1-bfd6-474a-95ab-59c8e0b9941e",
   "metadata": {
    "tags": []
   },
   "outputs": [],
   "source": [
    "import rospy\n",
    "from visualization_msgs.msg import Marker, MarkerArray\n",
    "\n",
    "marker = Marker()\n",
    "\n",
    "marker.header.frame_id = \"/turtle1\"\n",
    "# marker.header.stamp = rospy.Time.now()\n",
    "\n",
    "# set shape, Arrow: 0; Cube: 1 ; Sphere: 2 ; Cylinder: 3\n",
    "marker.type = 0\n",
    "marker.id = 0\n",
    "\n",
    "# Set the scale of the marker\n",
    "marker.scale.x = 1.0\n",
    "marker.scale.y = 0.5\n",
    "marker.scale.z = 0.5\n",
    "\n",
    "# Set the color\n",
    "marker.color.r = 1.0\n",
    "marker.color.g = 0.0\n",
    "marker.color.b = 0.0\n",
    "marker.color.a = 1.0\n",
    "\n",
    "# Set the pose of the marker\n",
    "marker.pose.position.x = 1\n",
    "marker.pose.position.y = 0\n",
    "marker.pose.position.z = 0\n",
    "marker.pose.orientation.x = 0.0\n",
    "marker.pose.orientation.y = 0.0\n",
    "marker.pose.orientation.z = 0.0\n",
    "marker.pose.orientation.w = 1.0"
   ]
  },
  {
   "cell_type": "code",
   "execution_count": null,
   "id": "c9d2651e-51e9-4fe5-a4c7-0d8a46d464e6",
   "metadata": {
    "tags": []
   },
   "outputs": [],
   "source": [
    "rate = rospy.Rate(5)\n",
    "rospy.init_node('rviz_marker')\n",
    "\n",
    "marker_pub = rospy.Publisher(\"/visualization_marker\", Marker, queue_size = 2)"
   ]
  },
  {
   "cell_type": "code",
   "execution_count": null,
   "id": "3db42344-1ef7-4ca2-8bb8-850f0e2730d4",
   "metadata": {
    "tags": []
   },
   "outputs": [],
   "source": [
    "marker_pub.publish(marker)"
   ]
  },
  {
   "cell_type": "markdown",
   "id": "1aa6f759-4759-435a-a59b-a254ffb7ea0b",
   "metadata": {},
   "source": [
    "Call ``sleep`` between multiple ``publish(marker)``. Otherwise, subsequent markers might not be published."
   ]
  },
  {
   "cell_type": "code",
   "execution_count": null,
   "id": "24d17d82-0079-4b55-b5ea-6f96baf2b4d4",
   "metadata": {},
   "outputs": [],
   "source": [
    "rate.sleep()"
   ]
  },
  {
   "cell_type": "markdown",
   "id": "477fa6dc-525e-4e29-b32e-81e73a3f1f83",
   "metadata": {},
   "source": [
    "## How to use rotation"
   ]
  },
  {
   "cell_type": "code",
   "execution_count": null,
   "id": "e34c47ea-b7ff-4dc4-88d9-eddd76bbf8f7",
   "metadata": {
    "tags": []
   },
   "outputs": [],
   "source": [
    "import PyKDL # default library for transforms"
   ]
  },
  {
   "cell_type": "code",
   "execution_count": null,
   "id": "0e8cebdf-8b1c-4e8b-ae73-064f73bdfdf5",
   "metadata": {
    "tags": []
   },
   "outputs": [],
   "source": [
    "# Standard rotation\n",
    "r = PyKDL.Rotation.EulerZYX(0, 0, 0)"
   ]
  },
  {
   "cell_type": "code",
   "execution_count": null,
   "id": "64c90664-e3f3-484e-9ac3-2b9649b00fa7",
   "metadata": {
    "tags": []
   },
   "outputs": [],
   "source": [
    "# All rotations are represented as matrices underneath.\n",
    "print(r)"
   ]
  },
  {
   "cell_type": "code",
   "execution_count": null,
   "id": "94bef508-33f0-43e1-9724-29ba1f969060",
   "metadata": {
    "tags": []
   },
   "outputs": [],
   "source": [
    "# Quaternion\n",
    "print(r.GetQuaternion())"
   ]
  },
  {
   "cell_type": "code",
   "execution_count": null,
   "id": "b4469c0f-0915-4e2a-8512-905c75d82319",
   "metadata": {
    "tags": []
   },
   "outputs": [],
   "source": [
    "# Angle Rotations\n",
    "print(r.GetRot())"
   ]
  },
  {
   "cell_type": "code",
   "execution_count": null,
   "id": "216d4c89-8fcb-433b-a66b-03a0237e79f1",
   "metadata": {
    "tags": []
   },
   "outputs": [],
   "source": [
    "# Euler Angle\n",
    "print(r.GetEulerZYX())"
   ]
  },
  {
   "cell_type": "code",
   "execution_count": null,
   "id": "31ecd8ee-9056-4af5-9ae5-bf95a06a3f08",
   "metadata": {
    "tags": []
   },
   "outputs": [],
   "source": [
    "import numpy as np"
   ]
  },
  {
   "cell_type": "code",
   "execution_count": null,
   "id": "595bcfb4-4e94-4a87-823d-6155f2e9aaff",
   "metadata": {
    "tags": []
   },
   "outputs": [],
   "source": [
    "r = PyKDL.Rotation.EulerZYX(np.pi, 0, 0)"
   ]
  },
  {
   "cell_type": "code",
   "execution_count": null,
   "id": "3bca5b0e-9fe2-46f3-937b-e2d324b9ee60",
   "metadata": {
    "tags": []
   },
   "outputs": [],
   "source": [
    "r"
   ]
  },
  {
   "cell_type": "code",
   "execution_count": null,
   "id": "8635d6ce-266b-4792-9b2b-386bca608a4d",
   "metadata": {
    "tags": []
   },
   "outputs": [],
   "source": [
    "q = r.GetQuaternion()"
   ]
  },
  {
   "cell_type": "code",
   "execution_count": null,
   "id": "45dcc703-e613-4839-a35a-1341eab7a2de",
   "metadata": {
    "tags": []
   },
   "outputs": [],
   "source": [
    "ax, ay, az, w = q"
   ]
  },
  {
   "cell_type": "code",
   "execution_count": null,
   "id": "bcb15093-e7e0-4e24-9670-f67bd476ac79",
   "metadata": {
    "tags": []
   },
   "outputs": [],
   "source": [
    "marker.pose.orientation.x = ax\n",
    "marker.pose.orientation.y = ay\n",
    "marker.pose.orientation.z = az\n",
    "marker.pose.orientation.w = w"
   ]
  },
  {
   "cell_type": "code",
   "execution_count": null,
   "id": "12b63544-ec15-4d95-9431-18338be86396",
   "metadata": {
    "tags": []
   },
   "outputs": [],
   "source": [
    "marker.id = 5"
   ]
  },
  {
   "cell_type": "code",
   "execution_count": null,
   "id": "a688edd9-dace-42a7-b5c2-f1c315ae1ca4",
   "metadata": {
    "tags": []
   },
   "outputs": [],
   "source": [
    "marker_pub.publish(marker)"
   ]
  },
  {
   "cell_type": "code",
   "execution_count": null,
   "id": "3b126034-401e-4af6-acd4-08471a275453",
   "metadata": {
    "tags": []
   },
   "outputs": [],
   "source": [
    "import time"
   ]
  },
  {
   "cell_type": "code",
   "execution_count": null,
   "id": "2439ab33-c630-48bb-8da9-3ff8985315b8",
   "metadata": {
    "tags": []
   },
   "outputs": [],
   "source": [
    "splits = 10\n",
    "bow_split = np.pi / splits\n",
    "\n",
    "for i in range(0, splits * 2):\n",
    "    r = PyKDL.Rotation.EulerZYX(0, bow_split * i, 0)\n",
    "    ax, ay, az, w = r.GetQuaternion()\n",
    "    marker.pose.orientation.x = ax\n",
    "    marker.pose.orientation.y = ay\n",
    "    marker.pose.orientation.z = az\n",
    "    marker.pose.orientation.w = w\n",
    "    marker.id = i\n",
    "    marker_pub.publish(marker)\n",
    "    time.sleep(0.5)"
   ]
  },
  {
   "cell_type": "markdown",
   "id": "855821ff-6125-4320-9e48-914a230ae690",
   "metadata": {
    "tags": []
   },
   "source": [
    "# Tasks"
   ]
  },
  {
   "cell_type": "markdown",
   "id": "93ac4281-cc0c-43a3-b162-c893eaa337d2",
   "metadata": {
    "tags": []
   },
   "source": [
    "## Task 1\n",
    "\n",
    "After you have configured Rvizweb, save the settings on your local machine. This will save you time the next time you configure Rvizweb. \n",
    "Additionally, paste your source code here:\n",
    "    \n",
    "```bash\n",
    "## Your config goes here:\n",
    "\n",
    "```\n",
    "\n",
    "Whenever markers do not load properly, try refreshing Rvizweb and reinserting your config."
   ]
  },
  {
   "cell_type": "markdown",
   "id": "fff62da3-0148-40c5-9668-1c977deb2ca9",
   "metadata": {
    "tags": []
   },
   "source": [
    "## Task 2\n",
    "\n",
    "Now use primitive shapes to build up the shape of the turtle. Rotation should be used. Both \"/turtle1\" and \"/turtle2\" need models. The color of the turtles should be different. No copy-and-paste code. The marker IDs should be generated and not hardcoded."
   ]
  },
  {
   "cell_type": "code",
   "execution_count": null,
   "id": "261c5062-f3a6-48f1-9546-c7fc3ac97c1d",
   "metadata": {},
   "outputs": [],
   "source": [
    "# Your code"
   ]
  },
  {
   "cell_type": "markdown",
   "id": "02db1d37-d03a-4f1a-b7cf-9858719e7cb0",
   "metadata": {},
   "source": [
    "## Task 3\n",
    "\n",
    "In which area can the turtles move? Build a wall around it."
   ]
  },
  {
   "cell_type": "code",
   "execution_count": null,
   "id": "b695763a-c5cb-4c5d-8f99-4207867036f0",
   "metadata": {
    "tags": []
   },
   "outputs": [],
   "source": [
    "# Your code"
   ]
  },
  {
   "cell_type": "markdown",
   "id": "8b86b175-eee1-4e1e-ad48-3904085efed1",
   "metadata": {},
   "source": [
    "## Task 4\n",
    "\n",
    "Given is a list of coordinates that \"/turtle1\" has visited. Use ``LINE_STRIP (4)`` to visualize the route taken. \n",
    "\n",
    "Tip: Use ``Show Contextual Help`` to get details of a function. "
   ]
  },
  {
   "cell_type": "code",
   "execution_count": null,
   "id": "375394d2-8bdf-4680-89ed-c781f8936cd3",
   "metadata": {
    "tags": []
   },
   "outputs": [],
   "source": [
    "# Your code"
   ]
  }
 ],
 "metadata": {
  "kernelspec": {
   "display_name": "Python 3 (ipykernel)",
   "language": "python",
   "name": "python3"
  },
  "language_info": {
   "codemirror_mode": {
    "name": "ipython",
    "version": 3
   },
   "file_extension": ".py",
   "mimetype": "text/x-python",
   "name": "python",
   "nbconvert_exporter": "python",
   "pygments_lexer": "ipython3",
   "version": "3.10.6"
  }
 },
 "nbformat": 4,
 "nbformat_minor": 5
}
