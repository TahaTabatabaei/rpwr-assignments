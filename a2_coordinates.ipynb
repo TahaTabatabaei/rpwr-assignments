{
 "cells": [
  {
   "cell_type": "markdown",
   "id": "560f5f7c-d645-47a9-b73a-21913d193b38",
   "metadata": {},
   "source": [
    "# Build your Turtlebot\n",
    "\n",
    "Build the TortugaBot with Visualization Markers\n",
    "\n",
    "Open Rviz. Set Global options > Fixed frame to `/world`\n",
    "\n",
    "Add Markers (or MarkerArray and publish to /pycram/viz_marker)\n",
    "\n",
    "```bash\n",
    "roslaunch turtle_tf turtle_tf_demo.launch\n",
    "```\n",
    "Move turtle with arrow keys in the terminal\n",
    "\n",
    "Execute the below python code blocks to publish arrow on the turtle1 frame\n",
    "\n",
    "https://wiki.ros.org/rviz/DisplayTypes/Marker\n"
   ]
  },
  {
   "cell_type": "code",
   "execution_count": 4,
   "id": "6c2448d1-bfd6-474a-95ab-59c8e0b9941e",
   "metadata": {
    "tags": []
   },
   "outputs": [],
   "source": [
    "import rospy\n",
    "from visualization_msgs.msg import Marker, MarkerArray\n",
    "\n",
    "marker = Marker()\n",
    "\n",
    "marker.header.frame_id = \"/turtle1\"\n",
    "# marker.header.stamp = rospy.Time.now()\n",
    "\n",
    "# set shape, Arrow: 0; Cube: 1 ; Sphere: 2 ; Cylinder: 3\n",
    "marker.type = 0\n",
    "marker.id = 0\n",
    "\n",
    "# Set the scale of the marker\n",
    "marker.scale.x = 1.0\n",
    "marker.scale.y = 0.5\n",
    "marker.scale.z = 0.5\n",
    "\n",
    "# Set the color\n",
    "marker.color.r = 1.0\n",
    "marker.color.g = 0.0\n",
    "marker.color.b = 0.0\n",
    "marker.color.a = 1.0\n",
    "\n",
    "# Set the pose of the marker\n",
    "marker.pose.position.x = 1\n",
    "marker.pose.position.y = 0\n",
    "marker.pose.position.z = 0\n",
    "marker.pose.orientation.x = 0.0\n",
    "marker.pose.orientation.y = 0.0\n",
    "marker.pose.orientation.z = 0.0\n",
    "marker.pose.orientation.w = 1.0\n",
    "\n"
   ]
  },
  {
   "cell_type": "code",
   "execution_count": 2,
   "id": "c9d2651e-51e9-4fe5-a4c7-0d8a46d464e6",
   "metadata": {
    "tags": []
   },
   "outputs": [],
   "source": [
    "\n",
    "rospy.init_node('rviz_marker')\n",
    "\n",
    "marker_pub = rospy.Publisher(\"/visualization_marker\", Marker, queue_size = 2)\n"
   ]
  },
  {
   "cell_type": "code",
   "execution_count": 6,
   "id": "69fe5717-52b0-4035-a69c-753bba9ad2c9",
   "metadata": {
    "tags": []
   },
   "outputs": [],
   "source": [
    "marker_pub.publish(marker)"
   ]
  },
  {
   "cell_type": "markdown",
   "id": "855821ff-6125-4320-9e48-914a230ae690",
   "metadata": {},
   "source": [
    "Now use privitive shapes to build up the shape of the turtle.\n",
    "\n",
    "**TODO** have an array of Marker instances for a marker_array publisher."
   ]
  },
  {
   "cell_type": "code",
   "execution_count": null,
   "id": "e34c47ea-b7ff-4dc4-88d9-eddd76bbf8f7",
   "metadata": {},
   "outputs": [],
   "source": []
  }
 ],
 "metadata": {
  "kernelspec": {
   "display_name": "Python 3 (ipykernel)",
   "language": "python",
   "name": "python3"
  },
  "language_info": {
   "codemirror_mode": {
    "name": "ipython",
    "version": 3
   },
   "file_extension": ".py",
   "mimetype": "text/x-python",
   "name": "python",
   "nbconvert_exporter": "python",
   "pygments_lexer": "ipython3",
   "version": "3.8.10"
  }
 },
 "nbformat": 4,
 "nbformat_minor": 5
}
