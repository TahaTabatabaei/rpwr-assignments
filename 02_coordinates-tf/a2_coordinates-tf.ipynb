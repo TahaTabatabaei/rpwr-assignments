{
 "cells": [
  {
   "cell_type": "code",
   "execution_count": 1,
   "id": "741eb94c-4e64-444a-8a1d-96cbb48f68fe",
   "metadata": {
    "ExecuteTime": {
     "end_time": "2025-05-04T20:21:55.000003Z",
     "start_time": "2025-05-04T20:21:54.921328Z"
    },
    "jupyter": {
     "source_hidden": true
    },
    "trusted": true
   },
   "outputs": [],
   "source": [
    "# Execute this for split-screen desktop.\n",
    "\n",
    "import os\n",
    "from IPython.display import display, HTML\n",
    "from sidecar import Sidecar\n",
    "\n",
    "try:\n",
    "    JUPYTERHUB_USER = os.environ['JUPYTERHUB_USER']\n",
    "except KeyError:\n",
    "    JUPYTERHUB_USER = None\n",
    "url_prefix = f\"/user/{JUPYTERHUB_USER}\" if JUPYTERHUB_USER is not None else ''\n",
    "remote_desktop_url = f\"{url_prefix}/desktop\"\n",
    "sc = Sidecar(title='Desktop')\n",
    "with sc:\n",
    "    # The inserted custom HTML and CSS snippets are to make the tab resizable\n",
    "    display(HTML(f\"\"\"\n",
    "        <style>\n",
    "        body.p-mod-override-cursor div.iframe-widget {{\n",
    "            position: relative;\n",
    "            pointer-events: none;\n",
    "\n",
    "        }}\n",
    "\n",
    "        body.p-mod-override-cursor div.iframe-widget:before {{\n",
    "            content: '';\n",
    "            position: absolute;\n",
    "            top: 0;\n",
    "            left: 0;\n",
    "            right: 0;\n",
    "            bottom: 0;\n",
    "            background: transparent;\n",
    "        }}\n",
    "        </style>\n",
    "        <div class=\"iframe-widget\" style=\"width: calc(100% + 10px);height:100%;\">\n",
    "            <iframe src=\"{remote_desktop_url}\" width=\"100%\" height=\"100%\"></iframe>\n",
    "        </div>\n",
    "    \"\"\"))"
   ]
  },
  {
   "cell_type": "markdown",
   "id": "560f5f7c-d645-47a9-b73a-21913d193b38",
   "metadata": {},
   "source": [
    "# Assignment 2 - Coordinates & Transforms\n",
    "\n",
    "## Build your Turtlebot\n",
    "\n",
    "The task of this assignment is to build the TortugaBot through Visualization Markers. Lets first set up the environment.\n",
    "\n",
    "Open Rviz. ([references](https://docs.ros.org/en/jazzy/Tutorials/Intermediate/RViz/RViz-User-Guide/RViz-User-Guide.html))\n",
    "```bash\n",
    "rviz2\n",
    "```\n",
    "* Set Global options > Fixed frame to `/world`. \n",
    "* Then add TF.\n",
    "\n",
    "Start the turtlesim demo from [the TF2 tutorials](https://docs.ros.org/en/jazzy/Tutorials/Intermediate/Tf2/Introduction-To-Tf2.html) in one terminal here:\n",
    "```bash\n",
    "ros2 launch turtle_tf2_py turtle_tf2_demo.launch.py\n",
    "```\n",
    "and in another terminal run\n",
    "```bash\n",
    "ros2 run turtlesim turtle_teleop_key\n",
    "```\n",
    "Move turtle with arrow keys in the terminal.\n",
    "\n",
    "Execute the below python code blocks to publish arrow on the turtle1 frame\n",
    "\n",
    "https://wiki.ros.org/rviz/DisplayTypes/Marker\n"
   ]
  },
  {
   "cell_type": "markdown",
   "id": "f1ae606f-60dd-4703-bd70-58808bdb1331",
   "metadata": {},
   "source": [
    "## Example: How to publish markers"
   ]
  },
  {
   "cell_type": "code",
   "execution_count": 2,
   "id": "31336518-654f-4fcb-983c-b5702d561760",
   "metadata": {
    "ExecuteTime": {
     "end_time": "2025-05-04T20:21:55.197491Z",
     "start_time": "2025-05-04T20:21:55.118304Z"
    },
    "trusted": true
   },
   "outputs": [],
   "source": [
    "import rclpy\n",
    "from rclpy.node import Node\n",
    "from visualization_msgs.msg import Marker"
   ]
  },
  {
   "cell_type": "code",
   "execution_count": 3,
   "id": "430653fd-792b-40d1-a1ec-fc3a3d58c754",
   "metadata": {
    "ExecuteTime": {
     "end_time": "2025-05-04T20:21:55.212327Z",
     "start_time": "2025-05-04T20:21:55.207222Z"
    },
    "trusted": true
   },
   "outputs": [],
   "source": [
    "class Balloon(Node):\n",
    "    def __init__(self):\n",
    "        # Initialize the ROS Node Publisher\n",
    "        super().__init__('balloon_marker')\n",
    "        self.publisher_ = self.create_publisher(Marker, 'balloon', 10)\n",
    "        \n",
    "        # Setting the timer creates a scheduled callback for rclpy.spin\n",
    "        timer_period = 0.5  # in seconds\n",
    "        self.timer = self.create_timer(timer_period, self.publish_marker)\n",
    "\n",
    "        # Design the marker\n",
    "        self.marker = Marker()\n",
    "        self.marker.header.frame_id = '/turtle1'\n",
    "        self.marker.header.stamp = self.get_clock().now().to_msg()\n",
    "        self.marker.type = self.marker.SPHERE\n",
    "        self.marker.id = 0\n",
    "        self.marker.action = self.marker.ADD\n",
    "        self.marker.scale.x = 0.4\n",
    "        self.marker.scale.y = 0.4\n",
    "        self.marker.scale.z = 0.4\n",
    "        self.marker.color.r = 1.0\n",
    "        self.marker.color.g = 0.0\n",
    "        self.marker.color.b = 0.0\n",
    "        self.marker.color.a = 1.0\n",
    "        self.marker.pose.position.x = 0.0\n",
    "        self.marker.pose.position.y = 0.0\n",
    "        self.marker.pose.position.z = 0.5\n",
    "        self.get_logger().info(\"Publishing the \" + self.publisher_.topic + \" topic. Use RViz to visualize.\")\n",
    "\n",
    "    \n",
    "    def publish_marker(self):\n",
    "        self.marker.header.stamp = self.get_clock().now().to_msg()\n",
    "        self.publisher_.publish(self.marker)"
   ]
  },
  {
   "cell_type": "code",
   "execution_count": 4,
   "id": "f6f4e7e5-7b72-461f-9d0f-8cd4cca7194e",
   "metadata": {
    "ExecuteTime": {
     "end_time": "2025-05-04T20:21:55.881403Z",
     "start_time": "2025-05-04T20:21:55.273941Z"
    },
    "trusted": true
   },
   "outputs": [
    {
     "name": "stderr",
     "output_type": "stream",
     "text": [
      "[INFO] [1746390115.879887917] [balloon_marker]: Publishing the balloon topic. Use RViz to visualize.\n"
     ]
    }
   ],
   "source": [
    "# Initialize rclpy ROS communication\n",
    "rclpy.init()\n",
    "# Instantiate ROS node\n",
    "balloon = Balloon()"
   ]
  },
  {
   "cell_type": "markdown",
   "id": "a566fa78-a5be-44a7-b985-253a09042fb3",
   "metadata": {},
   "source": [
    "In Rviz `Add` > `By topic` > `/balloon` > Marker"
   ]
  },
  {
   "cell_type": "code",
   "execution_count": 5,
   "id": "3ff854dd-b607-4bc8-a40b-01ef5404b638",
   "metadata": {
    "ExecuteTime": {
     "end_time": "2025-05-04T20:21:55.899261Z",
     "start_time": "2025-05-04T20:21:55.896678Z"
    },
    "trusted": true
   },
   "outputs": [],
   "source": [
    "balloon.publish_marker()"
   ]
  },
  {
   "cell_type": "markdown",
   "id": "6f641df0-8255-4db1-b6fc-4d0be25bd567",
   "metadata": {},
   "source": []
  },
  {
   "cell_type": "markdown",
   "id": "c5274f17-2a13-4e5b-ab06-8f62f8ceeeb8",
   "metadata": {},
   "source": [
    "There should now be a red baloon above `turtle1`. To publish continually, spin the node."
   ]
  },
  {
   "cell_type": "code",
   "execution_count": 6,
   "id": "13c449b4-b4d6-465f-9c22-2d7e28579c66",
   "metadata": {
    "ExecuteTime": {
     "end_time": "2025-05-04T20:22:17.096116Z",
     "start_time": "2025-05-04T20:21:55.947590Z"
    },
    "trusted": true
   },
   "outputs": [
    {
     "ename": "KeyboardInterrupt",
     "evalue": "",
     "output_type": "error",
     "traceback": [
      "\u001b[31m---------------------------------------------------------------------------\u001b[39m",
      "\u001b[31mKeyboardInterrupt\u001b[39m                         Traceback (most recent call last)",
      "\u001b[36mCell\u001b[39m\u001b[36m \u001b[39m\u001b[32mIn[6]\u001b[39m\u001b[32m, line 1\u001b[39m\n\u001b[32m----> \u001b[39m\u001b[32m1\u001b[39m \u001b[43mrclpy\u001b[49m\u001b[43m.\u001b[49m\u001b[43mspin\u001b[49m\u001b[43m(\u001b[49m\u001b[43mballoon\u001b[49m\u001b[43m)\u001b[49m\n",
      "\u001b[36mFile \u001b[39m\u001b[32m/opt/ros/jazzy/lib/python3.12/site-packages/rclpy/__init__.py:244\u001b[39m, in \u001b[36mspin\u001b[39m\u001b[34m(node, executor)\u001b[39m\n\u001b[32m    242\u001b[39m     executor.add_node(node)\n\u001b[32m    243\u001b[39m     \u001b[38;5;28;01mwhile\u001b[39;00m executor.context.ok():\n\u001b[32m--> \u001b[39m\u001b[32m244\u001b[39m         \u001b[43mexecutor\u001b[49m\u001b[43m.\u001b[49m\u001b[43mspin_once\u001b[49m\u001b[43m(\u001b[49m\u001b[43m)\u001b[49m\n\u001b[32m    245\u001b[39m \u001b[38;5;28;01mfinally\u001b[39;00m:\n\u001b[32m    246\u001b[39m     executor.remove_node(node)\n",
      "\u001b[36mFile \u001b[39m\u001b[32m/opt/ros/jazzy/lib/python3.12/site-packages/rclpy/executors.py:839\u001b[39m, in \u001b[36mSingleThreadedExecutor.spin_once\u001b[39m\u001b[34m(self, timeout_sec)\u001b[39m\n\u001b[32m    838\u001b[39m \u001b[38;5;28;01mdef\u001b[39;00m\u001b[38;5;250m \u001b[39m\u001b[34mspin_once\u001b[39m(\u001b[38;5;28mself\u001b[39m, timeout_sec: Optional[\u001b[38;5;28mfloat\u001b[39m] = \u001b[38;5;28;01mNone\u001b[39;00m) -> \u001b[38;5;28;01mNone\u001b[39;00m:\n\u001b[32m--> \u001b[39m\u001b[32m839\u001b[39m     \u001b[38;5;28;43mself\u001b[39;49m\u001b[43m.\u001b[49m\u001b[43m_spin_once_impl\u001b[49m\u001b[43m(\u001b[49m\u001b[43mtimeout_sec\u001b[49m\u001b[43m)\u001b[49m\n",
      "\u001b[36mFile \u001b[39m\u001b[32m/opt/ros/jazzy/lib/python3.12/site-packages/rclpy/executors.py:823\u001b[39m, in \u001b[36mSingleThreadedExecutor._spin_once_impl\u001b[39m\u001b[34m(self, timeout_sec, wait_condition)\u001b[39m\n\u001b[32m    817\u001b[39m \u001b[38;5;28;01mdef\u001b[39;00m\u001b[38;5;250m \u001b[39m\u001b[34m_spin_once_impl\u001b[39m(\n\u001b[32m    818\u001b[39m     \u001b[38;5;28mself\u001b[39m,\n\u001b[32m    819\u001b[39m     timeout_sec: Optional[Union[\u001b[38;5;28mfloat\u001b[39m, TimeoutObject]] = \u001b[38;5;28;01mNone\u001b[39;00m,\n\u001b[32m    820\u001b[39m     wait_condition: Callable[[], \u001b[38;5;28mbool\u001b[39m] = \u001b[38;5;28;01mlambda\u001b[39;00m: \u001b[38;5;28;01mFalse\u001b[39;00m\n\u001b[32m    821\u001b[39m ) -> \u001b[38;5;28;01mNone\u001b[39;00m:\n\u001b[32m    822\u001b[39m     \u001b[38;5;28;01mtry\u001b[39;00m:\n\u001b[32m--> \u001b[39m\u001b[32m823\u001b[39m         handler, entity, node = \u001b[38;5;28;43mself\u001b[39;49m\u001b[43m.\u001b[49m\u001b[43mwait_for_ready_callbacks\u001b[49m\u001b[43m(\u001b[49m\n\u001b[32m    824\u001b[39m \u001b[43m            \u001b[49m\u001b[43mtimeout_sec\u001b[49m\u001b[43m,\u001b[49m\u001b[43m \u001b[49m\u001b[38;5;28;43;01mNone\u001b[39;49;00m\u001b[43m,\u001b[49m\u001b[43m \u001b[49m\u001b[43mwait_condition\u001b[49m\u001b[43m)\u001b[49m\n\u001b[32m    825\u001b[39m     \u001b[38;5;28;01mexcept\u001b[39;00m ShutdownException:\n\u001b[32m    826\u001b[39m         \u001b[38;5;28;01mpass\u001b[39;00m\n",
      "\u001b[36mFile \u001b[39m\u001b[32m/opt/ros/jazzy/lib/python3.12/site-packages/rclpy/executors.py:793\u001b[39m, in \u001b[36mExecutor.wait_for_ready_callbacks\u001b[39m\u001b[34m(self, *args, **kwargs)\u001b[39m\n\u001b[32m    790\u001b[39m     \u001b[38;5;28mself\u001b[39m._cb_iter = \u001b[38;5;28mself\u001b[39m._wait_for_ready_callbacks(*args, **kwargs)\n\u001b[32m    792\u001b[39m \u001b[38;5;28;01mtry\u001b[39;00m:\n\u001b[32m--> \u001b[39m\u001b[32m793\u001b[39m     \u001b[38;5;28;01mreturn\u001b[39;00m \u001b[38;5;28;43mnext\u001b[39;49m\u001b[43m(\u001b[49m\u001b[38;5;28;43mself\u001b[39;49m\u001b[43m.\u001b[49m\u001b[43m_cb_iter\u001b[49m\u001b[43m)\u001b[49m\n\u001b[32m    794\u001b[39m \u001b[38;5;28;01mexcept\u001b[39;00m \u001b[38;5;167;01mStopIteration\u001b[39;00m:\n\u001b[32m    795\u001b[39m     \u001b[38;5;66;03m# Generator ran out of work\u001b[39;00m\n\u001b[32m    796\u001b[39m     \u001b[38;5;28mself\u001b[39m._cb_iter = \u001b[38;5;28;01mNone\u001b[39;00m\n",
      "\u001b[36mFile \u001b[39m\u001b[32m/opt/ros/jazzy/lib/python3.12/site-packages/rclpy/executors.py:697\u001b[39m, in \u001b[36mExecutor._wait_for_ready_callbacks\u001b[39m\u001b[34m(self, timeout_sec, nodes, condition)\u001b[39m\n\u001b[32m    694\u001b[39m     waitable.add_to_wait_set(wait_set)\n\u001b[32m    696\u001b[39m \u001b[38;5;66;03m# Wait for something to become ready\u001b[39;00m\n\u001b[32m--> \u001b[39m\u001b[32m697\u001b[39m \u001b[43mwait_set\u001b[49m\u001b[43m.\u001b[49m\u001b[43mwait\u001b[49m\u001b[43m(\u001b[49m\u001b[43mtimeout_nsec\u001b[49m\u001b[43m)\u001b[49m\n\u001b[32m    698\u001b[39m \u001b[38;5;28;01mif\u001b[39;00m \u001b[38;5;28mself\u001b[39m._is_shutdown:\n\u001b[32m    699\u001b[39m     \u001b[38;5;28;01mraise\u001b[39;00m ShutdownException()\n",
      "\u001b[31mKeyboardInterrupt\u001b[39m: "
     ]
    }
   ],
   "source": [
    "rclpy.spin(balloon)"
   ]
  },
  {
   "cell_type": "markdown",
   "id": "012581a7-8002-43bb-b8ea-dc44bb2117b9",
   "metadata": {},
   "source": [
    "Clean up afterwards"
   ]
  },
  {
   "cell_type": "code",
   "execution_count": 7,
   "id": "efd459e5-5fe1-4b75-a1b4-cb1f463a7308",
   "metadata": {
    "ExecuteTime": {
     "end_time": "2025-05-04T20:25:25.185387Z",
     "start_time": "2025-05-04T20:25:25.157922Z"
    },
    "trusted": true
   },
   "outputs": [
    {
     "ename": "NameError",
     "evalue": "name 'balloon' is not defined",
     "output_type": "error",
     "traceback": [
      "\u001b[31m---------------------------------------------------------------------------\u001b[39m",
      "\u001b[31mNameError\u001b[39m                                 Traceback (most recent call last)",
      "\u001b[36mCell\u001b[39m\u001b[36m \u001b[39m\u001b[32mIn[7]\u001b[39m\u001b[32m, line 1\u001b[39m\n\u001b[32m----> \u001b[39m\u001b[32m1\u001b[39m \u001b[43mballoon\u001b[49m.destroy_node()  \n",
      "\u001b[31mNameError\u001b[39m: name 'balloon' is not defined"
     ]
    }
   ],
   "source": [
    "balloon.destroy_node()  "
   ]
  },
  {
   "cell_type": "code",
   "execution_count": 17,
   "id": "c3c5490f-7feb-4347-b425-2e9806ca7392",
   "metadata": {
    "ExecuteTime": {
     "end_time": "2025-05-04T20:22:17.115496496Z",
     "start_time": "2025-05-03T23:18:23.350939Z"
    },
    "trusted": true
   },
   "outputs": [],
   "source": [
    "rclpy.shutdown()"
   ]
  },
  {
   "cell_type": "markdown",
   "id": "477fa6dc-525e-4e29-b32e-81e73a3f1f83",
   "metadata": {},
   "source": [
    "## Example: How to use rotation"
   ]
  },
  {
   "cell_type": "code",
   "execution_count": 18,
   "id": "02c03246-75ea-4157-9109-209ad0ef5501",
   "metadata": {
    "ExecuteTime": {
     "end_time": "2025-05-04T20:22:17.121894579Z",
     "start_time": "2025-05-03T23:18:25.870145Z"
    },
    "trusted": true
   },
   "outputs": [
    {
     "name": "stdout",
     "output_type": "stream",
     "text": [
      "Requirement already satisfied: transforms3d in /home/tahaos/Code/Projects/rpwr-assignments/.rpwr_venv/lib/python3.12/site-packages (0.4.2)\r\n",
      "Requirement already satisfied: numpy>=1.15 in /home/tahaos/Code/Projects/rpwr-assignments/.rpwr_venv/lib/python3.12/site-packages (from transforms3d) (2.2.5)\r\n"
     ]
    }
   ],
   "source": [
    "import sys\n",
    "!{sys.executable} -m pip install transforms3d"
   ]
  },
  {
   "cell_type": "code",
   "execution_count": 19,
   "id": "4bffb40f-8d55-4c8a-a6fb-428df50ddae4",
   "metadata": {
    "ExecuteTime": {
     "end_time": "2025-05-04T20:22:17.122408625Z",
     "start_time": "2025-05-03T23:18:28.355551Z"
    },
    "tags": [],
    "trusted": true
   },
   "outputs": [],
   "source": [
    "from tf_transformations import euler_matrix, quaternion_from_matrix, rotation_from_matrix, euler_from_matrix"
   ]
  },
  {
   "cell_type": "code",
   "execution_count": 20,
   "id": "fbcd4a25-f53c-4711-921b-1b42eadd89a0",
   "metadata": {
    "ExecuteTime": {
     "end_time": "2025-05-04T20:22:17.126725302Z",
     "start_time": "2025-05-03T23:18:30.175148Z"
    },
    "tags": [],
    "trusted": true
   },
   "outputs": [],
   "source": [
    "# Standard rotation\n",
    "r = euler_matrix(0,0,0)"
   ]
  },
  {
   "cell_type": "code",
   "execution_count": 21,
   "id": "453a32cb-d243-46f7-a75a-477d4e896764",
   "metadata": {
    "ExecuteTime": {
     "end_time": "2025-05-04T20:22:17.128173167Z",
     "start_time": "2025-05-03T23:18:32.213814Z"
    },
    "tags": [],
    "trusted": true
   },
   "outputs": [
    {
     "data": {
      "text/plain": [
       "array([[1., 0., 0., 0.],\n",
       "       [0., 1., 0., 0.],\n",
       "       [0., 0., 1., 0.],\n",
       "       [0., 0., 0., 1.]])"
      ]
     },
     "execution_count": 21,
     "metadata": {},
     "output_type": "execute_result"
    }
   ],
   "source": [
    "# All rotations are represented as matrices underneath.\n",
    "r"
   ]
  },
  {
   "cell_type": "code",
   "execution_count": 22,
   "id": "f61f0f42-b45d-40e9-95a8-f08e52a041e5",
   "metadata": {
    "ExecuteTime": {
     "end_time": "2025-05-04T20:22:17.132682814Z",
     "start_time": "2025-05-03T23:18:38.612826Z"
    },
    "tags": [],
    "trusted": true
   },
   "outputs": [
    {
     "data": {
      "text/plain": [
       "(np.float64(0.0), np.float64(0.0), np.float64(0.0), np.float64(1.0))"
      ]
     },
     "execution_count": 22,
     "metadata": {},
     "output_type": "execute_result"
    }
   ],
   "source": [
    "# Quaternion\n",
    "quaternion_from_matrix(r)"
   ]
  },
  {
   "cell_type": "code",
   "execution_count": 23,
   "id": "13b04d55-b803-4835-9da2-30269207a165",
   "metadata": {
    "ExecuteTime": {
     "end_time": "2025-05-04T20:22:17.133952054Z",
     "start_time": "2025-05-03T23:18:42.547049Z"
    },
    "tags": [],
    "trusted": true
   },
   "outputs": [
    {
     "data": {
      "text/plain": [
       "0.0"
      ]
     },
     "execution_count": 23,
     "metadata": {},
     "output_type": "execute_result"
    }
   ],
   "source": [
    "# Angle Rotations\n",
    "angle, _, _ = rotation_from_matrix(r)\n",
    "angle"
   ]
  },
  {
   "cell_type": "code",
   "execution_count": 24,
   "id": "bfc87999-50c6-4576-a1c5-3f574361fdc2",
   "metadata": {
    "ExecuteTime": {
     "end_time": "2025-05-04T20:22:17.134320563Z",
     "start_time": "2025-05-03T23:18:48.040802Z"
    },
    "tags": [],
    "trusted": true
   },
   "outputs": [
    {
     "data": {
      "text/plain": [
       "(0.0, -0.0, 0.0)"
      ]
     },
     "execution_count": 24,
     "metadata": {},
     "output_type": "execute_result"
    }
   ],
   "source": [
    "# Euler Angle\n",
    "euler_from_matrix(r)"
   ]
  },
  {
   "cell_type": "code",
   "execution_count": 25,
   "id": "4a25b1f5-d676-445d-ae8f-16839fac72e1",
   "metadata": {
    "ExecuteTime": {
     "end_time": "2025-05-04T20:22:17.135462009Z",
     "start_time": "2025-05-03T23:18:50.950499Z"
    },
    "tags": [],
    "trusted": true
   },
   "outputs": [],
   "source": [
    "import numpy as np"
   ]
  },
  {
   "cell_type": "code",
   "execution_count": 26,
   "id": "ac4f8432-b0dd-4198-b858-de25d21fe297",
   "metadata": {
    "ExecuteTime": {
     "end_time": "2025-05-04T20:22:17.135726319Z",
     "start_time": "2025-05-03T23:18:52.774440Z"
    },
    "tags": [],
    "trusted": true
   },
   "outputs": [],
   "source": [
    "r = euler_matrix(np.pi,0,0)"
   ]
  },
  {
   "cell_type": "code",
   "execution_count": 27,
   "id": "dfb35b3b-6d8e-4bff-b6ee-1a20c2744e72",
   "metadata": {
    "ExecuteTime": {
     "end_time": "2025-05-04T20:22:17.136759065Z",
     "start_time": "2025-05-03T23:18:56.968029Z"
    },
    "tags": [],
    "trusted": true
   },
   "outputs": [],
   "source": [
    "q = quaternion_from_matrix(r)"
   ]
  },
  {
   "cell_type": "code",
   "execution_count": 28,
   "id": "b901f4ec-4045-47ba-b530-b5fd2cfb7483",
   "metadata": {
    "ExecuteTime": {
     "end_time": "2025-05-04T20:22:17.137848831Z",
     "start_time": "2025-05-03T23:18:58.854815Z"
    },
    "tags": [],
    "trusted": true
   },
   "outputs": [],
   "source": [
    "ax, ay, az, w = q"
   ]
  },
  {
   "cell_type": "code",
   "execution_count": 29,
   "id": "98d6e847-65a4-4560-a163-6faa17d5e8e3",
   "metadata": {
    "ExecuteTime": {
     "end_time": "2025-05-04T20:22:17.139082914Z",
     "start_time": "2025-05-03T23:19:01.392125Z"
    },
    "tags": [],
    "trusted": true
   },
   "outputs": [],
   "source": [
    "marker = Marker()\n",
    "marker.header.frame_id = '/world'\n",
    "marker.type = marker.ARROW\n",
    "marker.id = 99\n",
    "marker.action = marker.ADD\n",
    "marker.scale.x = 0.5\n",
    "marker.scale.y = 0.1\n",
    "marker.scale.z = 0.1\n",
    "marker.color.r = 0.0\n",
    "marker.color.g = 1.0\n",
    "marker.color.b = 0.0\n",
    "marker.color.a = 1.0\n",
    "marker.pose.orientation.x = ax\n",
    "marker.pose.orientation.y = ay\n",
    "marker.pose.orientation.z = az\n",
    "marker.pose.orientation.w = w"
   ]
  },
  {
   "cell_type": "code",
   "execution_count": 30,
   "id": "62c564c6-1b5e-443f-9444-119cd138089d",
   "metadata": {
    "ExecuteTime": {
     "end_time": "2025-05-04T20:22:17.140306565Z",
     "start_time": "2025-05-03T23:19:07.971732Z"
    },
    "trusted": true
   },
   "outputs": [],
   "source": [
    "import rclpy\n",
    "from rclpy.node import Node\n",
    "from visualization_msgs.msg import Marker\n",
    "\n",
    "rclpy.init()\n",
    "marker_pub = Node(\"example_rotation_publisher\")\n",
    "marker_pub.publisher_ = marker_pub.create_publisher(Marker, 'example_rotations', 10)\n",
    "marker.header.stamp = marker_pub.get_clock().now().to_msg()\n",
    "marker_pub.publisher_.publish(marker)"
   ]
  },
  {
   "cell_type": "code",
   "execution_count": 33,
   "id": "1cd818fc-9228-4488-920c-e94fe2bd3735",
   "metadata": {
    "ExecuteTime": {
     "end_time": "2025-05-04T20:22:17.140627779Z",
     "start_time": "2025-05-03T23:26:07.321433Z"
    },
    "tags": [],
    "trusted": true
   },
   "outputs": [],
   "source": [
    "import time\n",
    "from copy import copy\n",
    "\n",
    "num_arrows = 20\n",
    "bow_split = np.pi * 2 / num_arrows\n",
    "\n",
    "for i in range(0, num_arrows):\n",
    "    r = euler_matrix(0, bow_split * i, 0)\n",
    "    ax, ay, az, w = quaternion_from_matrix(r)\n",
    "    marker.pose.orientation.x = ax\n",
    "    marker.pose.orientation.y = ay\n",
    "    marker.pose.orientation.z = az\n",
    "    marker.pose.orientation.w = w\n",
    "    marker.id = 100 + i\n",
    "    marker_pub.publisher_.publish(marker)\n",
    "    time.sleep(0.1)"
   ]
  },
  {
   "cell_type": "markdown",
   "id": "855821ff-6125-4320-9e48-914a230ae690",
   "metadata": {
    "tags": []
   },
   "source": [
    "# Tasks"
   ]
  },
  {
   "cell_type": "markdown",
   "id": "93ac4281-cc0c-43a3-b162-c893eaa337d2",
   "metadata": {
    "tags": []
   },
   "source": [
    "## Task 1\n",
    "\n",
    "After you have configured Rvizweb, save the settings on your local machine. This will save you time the next time you configure Rvizweb. \n",
    "Additionally, paste your source code here:\n",
    "    \n",
    "```bash\n",
    "## Your config goes here:\n",
    "# TODO\n",
    "tahaos@tahaos-ROG-Strix-G531GT-G531GT:~/.rviz2$ cat assignment2_2.rviz \n",
    "Panels:\n",
    "  - Class: rviz_common/Displays\n",
    "    Help Height: 78\n",
    "    Name: Displays\n",
    "    Property Tree Widget:\n",
    "      Expanded:\n",
    "        - /Global Options1\n",
    "        - /Status1\n",
    "        - /MarkerArray1\n",
    "      Splitter Ratio: 0.5\n",
    "    Tree Height: 526\n",
    "  - Class: rviz_common/Selection\n",
    "    Name: Selection\n",
    "  - Class: rviz_common/Tool Properties\n",
    "    Expanded:\n",
    "      - /2D Goal Pose1\n",
    "      - /Publish Point1\n",
    "    Name: Tool Properties\n",
    "    Splitter Ratio: 0.5886790156364441\n",
    "  - Class: rviz_common/Views\n",
    "    Expanded:\n",
    "      - /Current View1\n",
    "    Name: Views\n",
    "    Splitter Ratio: 0.5\n",
    "  - Class: rviz_common/Time\n",
    "    Experimental: false\n",
    "    Name: Time\n",
    "    SyncMode: 0\n",
    "    SyncSource: \"\"\n",
    "Visualization Manager:\n",
    "  Class: \"\"\n",
    "  Displays:\n",
    "    - Alpha: 0.5\n",
    "      Cell Size: 1\n",
    "      Class: rviz_default_plugins/Grid\n",
    "      Color: 160; 160; 164\n",
    "      Enabled: true\n",
    "      Line Style:\n",
    "        Line Width: 0.029999999329447746\n",
    "        Value: Lines\n",
    "      Name: Grid\n",
    "      Normal Cell Count: 0\n",
    "      Offset:\n",
    "        X: 0\n",
    "        Y: 0\n",
    "        Z: 0\n",
    "      Plane: XY\n",
    "      Plane Cell Count: 10\n",
    "      Reference Frame: <Fixed Frame>\n",
    "      Value: true\n",
    "    - Class: rviz_default_plugins/TF\n",
    "      Enabled: true\n",
    "      Filter (blacklist): \"\"\n",
    "      Filter (whitelist): \"\"\n",
    "      Frame Timeout: 15\n",
    "      Frames:\n",
    "        All Enabled: true\n",
    "        turtle1:\n",
    "          Value: true\n",
    "        turtle2:\n",
    "          Value: true\n",
    "        world:\n",
    "          Value: true\n",
    "      Marker Scale: 1\n",
    "      Name: TF\n",
    "      Show Arrows: true\n",
    "      Show Axes: true\n",
    "      Show Names: false\n",
    "      Tree:\n",
    "        world:\n",
    "          turtle1:\n",
    "            {}\n",
    "          turtle2:\n",
    "            {}\n",
    "      Update Interval: 0\n",
    "      Value: true\n",
    "    - Class: rviz_default_plugins/Marker\n",
    "      Enabled: true\n",
    "      Name: Marker\n",
    "      Namespaces:\n",
    "        {}\n",
    "      Topic:\n",
    "        Depth: 5\n",
    "        Durability Policy: Volatile\n",
    "        Filter size: 10\n",
    "        History Policy: Keep Last\n",
    "        Reliability Policy: Reliable\n",
    "        Value: /balloon\n",
    "      Value: true\n",
    "    - Class: rviz_default_plugins/Marker\n",
    "      Enabled: true\n",
    "      Name: Marker\n",
    "      Namespaces:\n",
    "        {}\n",
    "      Topic:\n",
    "        Depth: 5\n",
    "        Durability Policy: Volatile\n",
    "        Filter size: 10\n",
    "        History Policy: Keep Last\n",
    "        Reliability Policy: Reliable\n",
    "        Value: /example_rotations\n",
    "      Value: true\n",
    "    - Class: rviz_default_plugins/MarkerArray\n",
    "      Enabled: true\n",
    "      Name: MarkerArray\n",
    "      Namespaces:\n",
    "        \"\": true\n",
    "      Topic:\n",
    "        Depth: 5\n",
    "        Durability Policy: Volatile\n",
    "        History Policy: Keep Last\n",
    "        Reliability Policy: Reliable\n",
    "        Value: /turtle1\n",
    "      Value: true\n",
    "    - Class: rviz_default_plugins/MarkerArray\n",
    "      Enabled: true\n",
    "      Name: MarkerArray\n",
    "      Namespaces:\n",
    "        \"\": true\n",
    "      Topic:\n",
    "        Depth: 5\n",
    "        Durability Policy: Volatile\n",
    "        History Policy: Keep Last\n",
    "        Reliability Policy: Reliable\n",
    "        Value: /turtle2\n",
    "      Value: true\n",
    "  Enabled: true\n",
    "  Global Options:\n",
    "    Background Color: 48; 48; 48\n",
    "    Fixed Frame: world\n",
    "    Frame Rate: 30\n",
    "  Name: root\n",
    "  Tools:\n",
    "    - Class: rviz_default_plugins/Interact\n",
    "      Hide Inactive Objects: true\n",
    "    - Class: rviz_default_plugins/MoveCamera\n",
    "    - Class: rviz_default_plugins/Select\n",
    "    - Class: rviz_default_plugins/FocusCamera\n",
    "    - Class: rviz_default_plugins/Measure\n",
    "      Line color: 128; 128; 0\n",
    "    - Class: rviz_default_plugins/SetInitialPose\n",
    "      Covariance x: 0.25\n",
    "      Covariance y: 0.25\n",
    "      Covariance yaw: 0.06853891909122467\n",
    "      Topic:\n",
    "        Depth: 5\n",
    "        Durability Policy: Volatile\n",
    "        History Policy: Keep Last\n",
    "        Reliability Policy: Reliable\n",
    "        Value: /initialpose\n",
    "    - Class: rviz_default_plugins/SetGoal\n",
    "      Topic:\n",
    "        Depth: 5\n",
    "        Durability Policy: Volatile\n",
    "        History Policy: Keep Last\n",
    "        Reliability Policy: Reliable\n",
    "        Value: /goal_pose\n",
    "    - Class: rviz_default_plugins/PublishPoint\n",
    "      Single click: true\n",
    "      Topic:\n",
    "        Depth: 5\n",
    "        Durability Policy: Volatile\n",
    "        History Policy: Keep Last\n",
    "        Reliability Policy: Reliable\n",
    "        Value: /clicked_point\n",
    "  Transformation:\n",
    "    Current:\n",
    "      Class: rviz_default_plugins/TF\n",
    "  Value: true\n",
    "  Views:\n",
    "    Current:\n",
    "      Class: rviz_default_plugins/Orbit\n",
    "      Distance: 6.474525451660156\n",
    "      Enable Stereo Rendering:\n",
    "        Stereo Eye Separation: 0.05999999865889549\n",
    "        Stereo Focal Distance: 1\n",
    "        Swap Stereo Eyes: false\n",
    "        Value: false\n",
    "      Focal Point:\n",
    "        X: 0.9635942578315735\n",
    "        Y: 2.1174025535583496\n",
    "        Z: 0.1694212555885315\n",
    "      Focal Shape Fixed Size: false\n",
    "      Focal Shape Size: 0.05000000074505806\n",
    "      Invert Z Axis: false\n",
    "      Name: Current View\n",
    "      Near Clip Distance: 0.009999999776482582\n",
    "      Pitch: 0.5747961401939392\n",
    "      Target Frame: <Fixed Frame>\n",
    "      Value: Orbit (rviz_default_plugins)\n",
    "      Yaw: 2.616459369659424\n",
    "    Saved: ~\n",
    "Window Geometry:\n",
    "  Displays:\n",
    "    collapsed: false\n",
    "  Height: 846\n",
    "  Hide Left Dock: false\n",
    "  Hide Right Dock: false\n",
    "  QMainWindow State: 000000ff00000000fd000000040000000000000156000002a2fc0200000008fb0000001200530065006c0065006300740069006f006e00000001e10000009b0000006000fffffffb0000001e0054006f006f006c002000500072006f007000650072007400690065007302000001ed000001df00000185000000a3fb000000120056006900650077007300200054006f006f02000001df000002110000018500000122fb000000200054006f006f006c002000500072006f0070006500720074006900650073003203000002880000011d000002210000017afb000000100044006900730070006c0061007900730100000042000002a2000000d200fffffffb0000002000730065006c0065006300740069006f006e00200062007500660066006500720200000138000000aa0000023a00000294fb00000014005700690064006500530074006500720065006f02000000e6000000d2000003ee0000030bfb0000000c004b0069006e0065006300740200000186000001060000030c00000261000000010000010f000002a2fc0200000003fb0000001e0054006f006f006c002000500072006f00700065007200740069006500730100000041000000780000000000000000fb0000000a005600690065007700730100000042000002a2000000b200fffffffb0000001200530065006c0065006300740069006f006e010000025a000000b200000000000000000000000200000490000000a9fc0100000001fb0000000a00560069006500770073030000004e00000080000002e100000197000000030000057a00000042fc0100000002fb0000000800540069006d006501000000000000057a000002df00fffffffb0000000800540069006d0065010000000000000450000000000000000000000309000002a200000004000000040000000800000008fc0000000100000002000000010000000a0054006f006f006c00730100000000ffffffff0000000000000000\n",
    "  Selection:\n",
    "    collapsed: false\n",
    "  Time:\n",
    "    collapsed: false\n",
    "  Tool Properties:\n",
    "    collapsed: false\n",
    "  Views:\n",
    "    collapsed: false\n",
    "  Width: 1402\n",
    "  X: 143\n",
    "  Y: 43\n",
    "\n",
    "\n",
    "```\n",
    "\n",
    "Whenever markers do not load properly, try removing and reinserting the marker display. If this doesn´t work, try refreshing Rvizweb and reinserting your config. "
   ]
  },
  {
   "attachments": {
    "02cbeaf5-f97c-44b1-b883-7f58f2fcc7cb.png": {
     "image/png": "[encoded data removed]"
    }
   },
   "cell_type": "markdown",
   "id": "fff62da3-0148-40c5-9668-1c977deb2ca9",
   "metadata": {
    "tags": []
   },
   "source": [
    "## Task 2\n",
    "\n",
    "Below you can see one example of a turtle. It is approx. 40cm long. Use multiple primitive shapes to build the shape of the turtle. Your code should be running without executing the examples above.\n",
    "\n",
    "The turtle has at least 2 floors and 4 wheels.\n",
    "\n",
    "![turtle.png](attachment:02cbeaf5-f97c-44b1-b883-7f58f2fcc7cb.png)"
   ]
  },
  {
   "cell_type": "code",
   "execution_count": 11,
   "id": "261c5062-f3a6-48f1-9546-c7fc3ac97c1d",
   "metadata": {
    "ExecuteTime": {
     "end_time": "2025-05-04T21:03:35.195225Z",
     "start_time": "2025-05-04T21:03:35.020309Z"
    },
    "tags": [],
    "trusted": true
   },
   "outputs": [],
   "source": [
    "# Your code\n",
    "import rclpy\n",
    "from visualization_msgs.msg import Marker, MarkerArray\n",
    "import geometry_msgs.msg\n",
    "import std_msgs.msg\n",
    "from tf_transformations import euler_matrix, quaternion_from_matrix\n",
    "\n",
    "# rclpy.init('turtle_marker_exercise')\n",
    "rclpy.init()"
   ]
  },
  {
   "cell_type": "code",
   "execution_count": 12,
   "id": "695cb856-c6c5-4ce2-b742-afa303b1edac",
   "metadata": {
    "ExecuteTime": {
     "end_time": "2025-05-04T21:03:37.179652Z",
     "start_time": "2025-05-04T21:03:37.142119Z"
    },
    "trusted": true
   },
   "outputs": [],
   "source": [
    "from rclpy.node import Node\n",
    "import numpy as np\n",
    "\n",
    "class Turtle(Node):\n",
    "    \n",
    "    def __init__(self, name, id_seed):\n",
    "        # Initialize the turtle node including its publisher\n",
    "        super().__init__(name)\n",
    "        self.publisher_ = self.create_publisher(MarkerArray, name, 10)\n",
    "\n",
    "        # Setting the timer creates a scheduled callback for rclpy.spin\n",
    "        timer_period = 0.3  # in seconds\n",
    "        self.timer = self.create_timer(timer_period, self.publish_turtle)\n",
    "\n",
    "        # marker array\n",
    "        self.markerArr = MarkerArray()\n",
    "\n",
    "        # Design the turtle marker\n",
    "        bar_z = 0.15\n",
    "        # first floor\n",
    "        self.floorOne= Marker()\n",
    "        self.floorOne.header.frame_id = f'/{name}'\n",
    "        self.floorOne.header.stamp = self.get_clock().now().to_msg()\n",
    "        self.floorOne.type = self.floorOne.CYLINDER\n",
    "        self.floorOne.id = id_seed + 0\n",
    "        self.floorOne.action = self.floorOne.ADD\n",
    "        self.floorOne.scale.x = 0.46\n",
    "        self.floorOne.scale.y = 0.36\n",
    "        self.floorOne.scale.z = 0.01\n",
    "        self.floorOne.color.r = 0.0\n",
    "        self.floorOne.color.g = 0.6\n",
    "        self.floorOne.color.b = 0.4\n",
    "        self.floorOne.color.a = 1.0\n",
    "        self.floorOne.pose.position.x = 0.0\n",
    "        self.floorOne.pose.position.y = 0.0\n",
    "        self.floorOne.pose.position.z = 0.02\n",
    "        self.markerArr.markers.append(self.floorOne)\n",
    "        self.get_logger().info(\"[floor one] Publishing the \" + self.publisher_.topic + \" topic. Use RViz to visualize.\")\n",
    "\n",
    "        # wheel front\n",
    "        self.wheelFront = Marker()\n",
    "        self.wheelFront.header.frame_id = f'/{name}'\n",
    "        self.wheelFront.header.stamp = self.get_clock().now().to_msg()\n",
    "        self.wheelFront.type = self.wheelFront.CYLINDER\n",
    "        self.wheelFront.id = id_seed +1\n",
    "        self.wheelFront.action = self.wheelFront.ADD\n",
    "        self.wheelFront.scale.x = 0.05\n",
    "        self.wheelFront.scale.y = 0.05\n",
    "        self.wheelFront.scale.z = 0.04\n",
    "        self.wheelFront.color.r = 0.2\n",
    "        self.wheelFront.color.g = 0.2\n",
    "        self.wheelFront.color.b = 0.2\n",
    "        self.wheelFront.color.a = 1.0\n",
    "        self.wheelFront.pose.position.x = 0.22\n",
    "        self.wheelFront.pose.position.y = 0.0\n",
    "        self.wheelFront.pose.position.z = self.floorOne.pose.position.z - (self.floorOne.scale.z/2) - (self.wheelFront.scale.y/2)\n",
    "        r = euler_matrix(np.pi/2,0,0)\n",
    "        q = quaternion_from_matrix(r)\n",
    "        ax, ay, az, w = q\n",
    "        self.wheelFront.pose.orientation.x = ax\n",
    "        self.wheelFront.pose.orientation.y = ay\n",
    "        self.wheelFront.pose.orientation.z = az\n",
    "        self.wheelFront.pose.orientation.w = w\n",
    "        self.markerArr.markers.append(self.wheelFront)\n",
    "        self.get_logger().info(\"[wheel front] Publishing the \" + self.publisher_.topic + \" topic. Use RViz to visualize.\")\n",
    "\n",
    "        # wheel back\n",
    "        self.wheelBack = Marker()\n",
    "        self.wheelBack.header.frame_id = f'/{name}'\n",
    "        self.wheelBack.header.stamp = self.get_clock().now().to_msg()\n",
    "        self.wheelBack.type = self.wheelBack.CYLINDER\n",
    "        self.wheelBack.id = id_seed +2\n",
    "        self.wheelBack.action = self.wheelBack.ADD\n",
    "        self.wheelBack.scale.x = 0.05\n",
    "        self.wheelBack.scale.y = 0.05\n",
    "        self.wheelBack.scale.z = 0.04\n",
    "        self.wheelBack.color.r = 0.2\n",
    "        self.wheelBack.color.g = 0.2\n",
    "        self.wheelBack.color.b = 0.2\n",
    "        self.wheelBack.color.a = 1.0\n",
    "        self.wheelBack.pose.position.x = -0.22\n",
    "        self.wheelBack.pose.position.y = 0.0\n",
    "        self.wheelBack.pose.position.z = self.floorOne.pose.position.z - (self.floorOne.scale.z/2) - (self.wheelBack.scale.y/2)\n",
    "        r = euler_matrix(np.pi/2,0,0)\n",
    "        q = quaternion_from_matrix(r)\n",
    "        ax, ay, az, w = q\n",
    "        self.wheelBack.pose.orientation.x = ax\n",
    "        self.wheelBack.pose.orientation.y = ay\n",
    "        self.wheelBack.pose.orientation.z = az\n",
    "        self.wheelBack.pose.orientation.w = w\n",
    "        self.markerArr.markers.append(self.wheelBack)\n",
    "        self.get_logger().info(\"[wheel back] Publishing the \" + self.publisher_.topic + \" topic. Use RViz to visualize.\")\n",
    "\n",
    "        # wheel left\n",
    "        self.wheelLeft = Marker()\n",
    "        self.wheelLeft.header.frame_id = f'/{name}'\n",
    "        self.wheelLeft.header.stamp = self.get_clock().now().to_msg()\n",
    "        self.wheelLeft.type = self.wheelBack.CYLINDER\n",
    "        self.wheelLeft.id = id_seed +3\n",
    "        self.wheelLeft.action = self.wheelLeft.ADD\n",
    "        self.wheelLeft.scale.x = 0.06\n",
    "        self.wheelLeft.scale.y = 0.06\n",
    "        self.wheelLeft.scale.z = 0.02\n",
    "        self.wheelLeft.color.r = 0.2\n",
    "        self.wheelLeft.color.g = 0.2\n",
    "        self.wheelLeft.color.b = 0.2\n",
    "        self.wheelLeft.color.a = 1.0\n",
    "        self.wheelLeft.pose.position.x = 0.0\n",
    "        self.wheelLeft.pose.position.y = -((self.floorOne.scale.y/2) + (self.wheelLeft.scale.z/2))\n",
    "        self.wheelLeft.pose.position.z = 0.0\n",
    "        r = euler_matrix(np.pi/2,0,0)\n",
    "        q = quaternion_from_matrix(r)\n",
    "        ax, ay, az, w = q\n",
    "        self.wheelLeft.pose.orientation.x = ax\n",
    "        self.wheelLeft.pose.orientation.y = ay\n",
    "        self.wheelLeft.pose.orientation.z = az\n",
    "        self.wheelLeft.pose.orientation.w = w\n",
    "        self.markerArr.markers.append(self.wheelLeft)\n",
    "        self.get_logger().info(\"[wheel left] Publishing the \" + self.publisher_.topic + \" topic. Use RViz to visualize.\")\n",
    "\n",
    "        # wheel right\n",
    "        self.wheelRight = Marker()\n",
    "        self.wheelRight.header.frame_id = f'/{name}'\n",
    "        self.wheelRight.header.stamp = self.get_clock().now().to_msg()\n",
    "        self.wheelRight.type = self.wheelBack.CYLINDER\n",
    "        self.wheelRight.id = id_seed + 4\n",
    "        self.wheelRight.action = self.wheelRight.ADD\n",
    "        self.wheelRight.scale.x = 0.06\n",
    "        self.wheelRight.scale.y = 0.06\n",
    "        self.wheelRight.scale.z = 0.02\n",
    "        self.wheelRight.color.r = 0.2\n",
    "        self.wheelRight.color.g = 0.2\n",
    "        self.wheelRight.color.b = 0.2\n",
    "        self.wheelRight.color.a = 1.0\n",
    "        self.wheelRight.pose.position.x = 0.0\n",
    "        self.wheelRight.pose.position.y = ((self.floorOne.scale.y/2) + (self.wheelRight.scale.z/2))\n",
    "        self.wheelRight.pose.position.z = 0.0\n",
    "        r = euler_matrix(np.pi/2,0,0)\n",
    "        q = quaternion_from_matrix(r)\n",
    "        ax, ay, az, w = q\n",
    "        self.wheelRight.pose.orientation.x = ax\n",
    "        self.wheelRight.pose.orientation.y = ay\n",
    "        self.wheelRight.pose.orientation.z = az\n",
    "        self.wheelRight.pose.orientation.w = w\n",
    "        self.markerArr.markers.append(self.wheelRight)\n",
    "        self.get_logger().info(\"[wheel right] Publishing the \" + self.publisher_.topic + \" topic. Use RViz to visualize.\")\n",
    "\n",
    "\n",
    "        # bar one floor one\n",
    "        self.barOneFloorOne = Marker()\n",
    "        self.barOneFloorOne.header.frame_id = f'/{name}'\n",
    "        self.barOneFloorOne.header.stamp = self.get_clock().now().to_msg()\n",
    "        self.barOneFloorOne.type = self.barOneFloorOne.CYLINDER\n",
    "        self.barOneFloorOne.id = id_seed + 5\n",
    "        self.barOneFloorOne.action = self.barOneFloorOne.ADD\n",
    "        self.barOneFloorOne.scale.x = 0.02\n",
    "        self.barOneFloorOne.scale.y = 0.02\n",
    "        self.barOneFloorOne.scale.z = bar_z\n",
    "        self.barOneFloorOne.color.r = 0.2\n",
    "        self.barOneFloorOne.color.g = 0.2\n",
    "        self.barOneFloorOne.color.b = 0.2\n",
    "        self.barOneFloorOne.color.a = 1.0\n",
    "        self.barOneFloorOne.pose.position.x = 0.1\n",
    "        self.barOneFloorOne.pose.position.y = 0.1\n",
    "        self.barOneFloorOne.pose.position.z = self.floorOne.pose.position.z + (self.floorOne.scale.z/2) + (self.barOneFloorOne.scale.z/2)\n",
    "        self.markerArr.markers.append(self.barOneFloorOne)\n",
    "        self.get_logger().info(\"[bar one of floor one] Publishing the \" + self.publisher_.topic + \" topic. Use RViz to visualize.\")\n",
    "\n",
    "        # bar two floor one\n",
    "        self.barTwoFloorOne = Marker()\n",
    "        self.barTwoFloorOne.header.frame_id = f'/{name}'\n",
    "        self.barTwoFloorOne.header.stamp = self.get_clock().now().to_msg()\n",
    "        self.barTwoFloorOne.type = self.barTwoFloorOne.CYLINDER\n",
    "        self.barTwoFloorOne.id = id_seed + 6\n",
    "        self.barTwoFloorOne.action = self.barTwoFloorOne.ADD\n",
    "        self.barTwoFloorOne.scale.x = 0.02\n",
    "        self.barTwoFloorOne.scale.y = 0.02\n",
    "        self.barTwoFloorOne.scale.z = bar_z\n",
    "        self.barTwoFloorOne.color.r = 0.2\n",
    "        self.barTwoFloorOne.color.g = 0.2\n",
    "        self.barTwoFloorOne.color.b = 0.2\n",
    "        self.barTwoFloorOne.color.a = 1.0\n",
    "        self.barTwoFloorOne.pose.position.x = 0.1\n",
    "        self.barTwoFloorOne.pose.position.y = -0.1\n",
    "        self.barTwoFloorOne.pose.position.z = self.floorOne.pose.position.z + (self.floorOne.scale.z/2) + (self.barTwoFloorOne.scale.z/2)\n",
    "        self.markerArr.markers.append(self.barTwoFloorOne)\n",
    "        self.get_logger().info(\"[bar two of floor one] Publishing the \" + self.publisher_.topic + \" topic. Use RViz to visualize.\")\n",
    "\n",
    "        # bar three floor one\n",
    "        self.barThreeFloorOne = Marker()\n",
    "        self.barThreeFloorOne.header.frame_id = f'/{name}'\n",
    "        self.barThreeFloorOne.header.stamp = self.get_clock().now().to_msg()\n",
    "        self.barThreeFloorOne.type = self.barThreeFloorOne.CYLINDER\n",
    "        self.barThreeFloorOne.id = id_seed + 7\n",
    "        self.barThreeFloorOne.action = self.barThreeFloorOne.ADD\n",
    "        self.barThreeFloorOne.scale.x = 0.02\n",
    "        self.barThreeFloorOne.scale.y = 0.02\n",
    "        self.barThreeFloorOne.scale.z = bar_z\n",
    "        self.barThreeFloorOne.color.r = 0.2\n",
    "        self.barThreeFloorOne.color.g = 0.2\n",
    "        self.barThreeFloorOne.color.b = 0.2\n",
    "        self.barThreeFloorOne.color.a = 1.0\n",
    "        self.barThreeFloorOne.pose.position.x = -0.1\n",
    "        self.barThreeFloorOne.pose.position.y = 0.1\n",
    "        self.barThreeFloorOne.pose.position.z = self.floorOne.pose.position.z + (self.floorOne.scale.z/2) + (self.barThreeFloorOne.scale.z/2)\n",
    "        self.markerArr.markers.append(self.barThreeFloorOne)\n",
    "        self.get_logger().info(\"[bar three of floor one] Publishing the \" + self.publisher_.topic + \" topic. Use RViz to visualize.\")\n",
    "\n",
    "        # bar four floor one\n",
    "        self.barFourFloorOne = Marker()\n",
    "        self.barFourFloorOne.header.frame_id = f'/{name}'\n",
    "        self.barFourFloorOne.header.stamp = self.get_clock().now().to_msg()\n",
    "        self.barFourFloorOne.type = self.barFourFloorOne.CYLINDER\n",
    "        self.barFourFloorOne.id = id_seed + 8\n",
    "        self.barFourFloorOne.action = self.barFourFloorOne.ADD\n",
    "        self.barFourFloorOne.scale.x = 0.02\n",
    "        self.barFourFloorOne.scale.y = 0.02\n",
    "        self.barFourFloorOne.scale.z = bar_z\n",
    "        self.barFourFloorOne.color.r = 0.2\n",
    "        self.barFourFloorOne.color.g = 0.2\n",
    "        self.barFourFloorOne.color.b = 0.2\n",
    "        self.barFourFloorOne.color.a = 1.0\n",
    "        self.barFourFloorOne.pose.position.x = -0.1\n",
    "        self.barFourFloorOne.pose.position.y = -0.1\n",
    "        self.barFourFloorOne.pose.position.z = self.floorOne.pose.position.z + (self.floorOne.scale.z/2) + (self.barFourFloorOne.scale.z/2)\n",
    "        self.markerArr.markers.append(self.barFourFloorOne)\n",
    "        self.get_logger().info(\"[bar four of floor one] Publishing the \" + self.publisher_.topic + \" topic. Use RViz to visualize.\")\n",
    "\n",
    "        # floor two\n",
    "        self.floorTwo= Marker()\n",
    "        self.floorTwo.header.frame_id = f'/{name}'\n",
    "        self.floorTwo.header.stamp = self.get_clock().now().to_msg()\n",
    "        self.floorTwo.type = self.floorTwo.CYLINDER\n",
    "        self.floorTwo.id = id_seed + 9\n",
    "        self.floorTwo.action = self.floorTwo.ADD\n",
    "        self.floorTwo.scale.x = 0.46\n",
    "        self.floorTwo.scale.y = 0.36\n",
    "        self.floorTwo.scale.z = 0.01\n",
    "        self.floorTwo.color.r = 0.0\n",
    "        self.floorTwo.color.g = 0.6\n",
    "        self.floorTwo.color.b = 0.4\n",
    "        self.floorTwo.color.a = 1.0\n",
    "        self.floorTwo.pose.position.x = 0.0\n",
    "        self.floorTwo.pose.position.y = 0.0\n",
    "        self.floorTwo.pose.position.z = (self.floorTwo.scale.z/2) + (self.barOneFloorOne.scale.z/2) + (self.barTwoFloorOne.pose.position.z)\n",
    "        self.markerArr.markers.append(self.floorTwo)\n",
    "        self.get_logger().info(\"[floor two] Publishing the \" + self.publisher_.topic + \" topic. Use RViz to visualize.\")\n",
    "\n",
    "        # bar one floor two\n",
    "        self.barOneFloorTwo = Marker()\n",
    "        self.barOneFloorTwo.header.frame_id = f'/{name}'\n",
    "        self.barOneFloorTwo.header.stamp = self.get_clock().now().to_msg()\n",
    "        self.barOneFloorTwo.type = self.barOneFloorTwo.CYLINDER\n",
    "        self.barOneFloorTwo.id = id_seed + 10\n",
    "        self.barOneFloorTwo.action = self.barOneFloorTwo.ADD\n",
    "        self.barOneFloorTwo.scale.x = 0.02\n",
    "        self.barOneFloorTwo.scale.y = 0.02\n",
    "        self.barOneFloorTwo.scale.z = bar_z\n",
    "        self.barOneFloorTwo.color.r = 0.2\n",
    "        self.barOneFloorTwo.color.g = 0.2\n",
    "        self.barOneFloorTwo.color.b = 0.2\n",
    "        self.barOneFloorTwo.color.a = 1.0\n",
    "        self.barOneFloorTwo.pose.position.x = 0.1\n",
    "        self.barOneFloorTwo.pose.position.y = 0.1\n",
    "        self.barOneFloorTwo.pose.position.z = self.floorTwo.pose.position.z + (self.floorTwo.scale.z/2) + (self.barOneFloorTwo.scale.z/2)\n",
    "        self.markerArr.markers.append(self.barOneFloorTwo)\n",
    "        self.get_logger().info(\"[bar one of floor two] Publishing the \" + self.publisher_.topic + \" topic. Use RViz to visualize.\")\n",
    "\n",
    "        # bar two floor two\n",
    "        self.barTwoFloorTwo = Marker()\n",
    "        self.barTwoFloorTwo.header.frame_id = f'/{name}'\n",
    "        self.barTwoFloorTwo.header.stamp = self.get_clock().now().to_msg()\n",
    "        self.barTwoFloorTwo.type = self.barTwoFloorTwo.CYLINDER\n",
    "        self.barTwoFloorTwo.id = id_seed + 11\n",
    "        self.barTwoFloorTwo.action = self.barTwoFloorTwo.ADD\n",
    "        self.barTwoFloorTwo.scale.x = 0.02\n",
    "        self.barTwoFloorTwo.scale.y = 0.02\n",
    "        self.barTwoFloorTwo.scale.z = bar_z\n",
    "        self.barTwoFloorTwo.color.r = 0.2\n",
    "        self.barTwoFloorTwo.color.g = 0.2\n",
    "        self.barTwoFloorTwo.color.b = 0.2\n",
    "        self.barTwoFloorTwo.color.a = 1.0\n",
    "        self.barTwoFloorTwo.pose.position.x = 0.1\n",
    "        self.barTwoFloorTwo.pose.position.y = -0.1\n",
    "        self.barTwoFloorTwo.pose.position.z = self.floorTwo.pose.position.z + (self.floorTwo.scale.z/2) + (self.barTwoFloorTwo.scale.z/2)\n",
    "        self.markerArr.markers.append(self.barTwoFloorTwo)\n",
    "        self.get_logger().info(\"[bar two of floor two] Publishing the \" + self.publisher_.topic + \" topic. Use RViz to visualize.\")\n",
    "        \n",
    "        # bar three floor two\n",
    "        self.barThreeFloorTwo = Marker()\n",
    "        self.barThreeFloorTwo.header.frame_id = f'/{name}'\n",
    "        self.barThreeFloorTwo.header.stamp = self.get_clock().now().to_msg()\n",
    "        self.barThreeFloorTwo.type = self.barThreeFloorTwo.CYLINDER\n",
    "        self.barThreeFloorTwo.id = id_seed + 12\n",
    "        self.barThreeFloorTwo.action = self.barThreeFloorTwo.ADD\n",
    "        self.barThreeFloorTwo.scale.x = 0.02\n",
    "        self.barThreeFloorTwo.scale.y = 0.02\n",
    "        self.barThreeFloorTwo.scale.z = bar_z\n",
    "        self.barThreeFloorTwo.color.r = 0.2\n",
    "        self.barThreeFloorTwo.color.g = 0.2\n",
    "        self.barThreeFloorTwo.color.b = 0.2\n",
    "        self.barThreeFloorTwo.color.a = 1.0\n",
    "        self.barThreeFloorTwo.pose.position.x = -0.1\n",
    "        self.barThreeFloorTwo.pose.position.y = 0.1\n",
    "        self.barThreeFloorTwo.pose.position.z = self.floorTwo.pose.position.z + (self.floorTwo.scale.z/2) + (self.barThreeFloorTwo.scale.z/2)\n",
    "        self.markerArr.markers.append(self.barThreeFloorTwo)\n",
    "        self.get_logger().info(\"[bar three of floor two] Publishing the \" + self.publisher_.topic + \" topic. Use RViz to visualize.\")\n",
    "\n",
    "        # bar four floor two\n",
    "        self.barFourFloorTwo = Marker()\n",
    "        self.barFourFloorTwo.header.frame_id = f'/{name}'\n",
    "        self.barFourFloorTwo.header.stamp = self.get_clock().now().to_msg()\n",
    "        self.barFourFloorTwo.type = self.barFourFloorTwo.CYLINDER\n",
    "        self.barFourFloorTwo.id = id_seed + 13\n",
    "        self.barFourFloorTwo.action = self.barFourFloorTwo.ADD\n",
    "        self.barFourFloorTwo.scale.x = 0.02\n",
    "        self.barFourFloorTwo.scale.y = 0.02\n",
    "        self.barFourFloorTwo.scale.z = bar_z\n",
    "        self.barFourFloorTwo.color.r = 0.2\n",
    "        self.barFourFloorTwo.color.g = 0.2\n",
    "        self.barFourFloorTwo.color.b = 0.2\n",
    "        self.barFourFloorTwo.color.a = 1.0\n",
    "        self.barFourFloorTwo.pose.position.x = -0.1\n",
    "        self.barFourFloorTwo.pose.position.y = -0.1\n",
    "        self.barFourFloorTwo.pose.position.z = self.floorTwo.pose.position.z + (self.floorTwo.scale.z/2) + (self.barFourFloorTwo.scale.z/2)\n",
    "        self.markerArr.markers.append(self.barFourFloorTwo)\n",
    "        self.get_logger().info(\"[bar four of floor two] Publishing the \" + self.publisher_.topic + \" topic. Use RViz to visualize.\")\n",
    "\n",
    "        # floor three\n",
    "        self.floorThree= Marker()\n",
    "        self.floorThree.header.frame_id = f'/{name}'\n",
    "        self.floorThree.header.stamp = self.get_clock().now().to_msg()\n",
    "        self.floorThree.type = self.floorThree.CYLINDER\n",
    "        self.floorThree.id = id_seed + 14\n",
    "        self.floorThree.action = self.floorThree.ADD\n",
    "        self.floorThree.scale.x = 0.46\n",
    "        self.floorThree.scale.y = 0.36\n",
    "        self.floorThree.scale.z = 0.01\n",
    "        self.floorThree.color.r = 0.0\n",
    "        self.floorThree.color.g = 0.6\n",
    "        self.floorThree.color.b = 0.4\n",
    "        self.floorThree.color.a = 1.0\n",
    "        self.floorThree.pose.position.x = 0.0\n",
    "        self.floorThree.pose.position.y = 0.0\n",
    "        self.floorThree.pose.position.z = (self.floorThree.scale.z/2) + (self.barOneFloorTwo.scale.z/2) + (self.barTwoFloorTwo.pose.position.z)\n",
    "        self.markerArr.markers.append(self.floorThree)\n",
    "        self.get_logger().info(\"[floor three] Publishing the \" + self.publisher_.topic + \" topic. Use RViz to visualize.\")\n",
    "\n",
    "\n",
    "    \n",
    "    def publish_turtle(self):\n",
    "\n",
    "        # Publish the turtle as marker\n",
    "        self.floorOne.header.stamp = self.get_clock().now().to_msg()\n",
    "\n",
    "        self.wheelFront.header.stamp = self.get_clock().now().to_msg()\n",
    "\n",
    "        self.wheelBack.header.stamp = self.get_clock().now().to_msg()\n",
    "\n",
    "        self.wheelLeft.header.stamp = self.get_clock().now().to_msg()\n",
    "\n",
    "        self.wheelRight.header.stamp = self.get_clock().now().to_msg()\n",
    "\n",
    "        self.barOneFloorOne.header.stamp = self.get_clock().now().to_msg()\n",
    "        \n",
    "        self.barTwoFloorOne.header.stamp = self.get_clock().now().to_msg()\n",
    "\n",
    "        self.barThreeFloorOne.header.stamp = self.get_clock().now().to_msg()\n",
    "\n",
    "        self.barFourFloorOne.header.stamp = self.get_clock().now().to_msg()\n",
    "\n",
    "        self.floorTwo.header.stamp = self.get_clock().now().to_msg()\n",
    "\n",
    "        self.barOneFloorTwo.header.stamp = self.get_clock().now().to_msg()\n",
    "\n",
    "        self.barTwoFloorTwo.header.stamp = self.get_clock().now().to_msg()\n",
    "\n",
    "        self.barThreeFloorTwo.header.stamp = self.get_clock().now().to_msg()\n",
    "\n",
    "        self.barFourFloorTwo.header.stamp = self.get_clock().now().to_msg()\n",
    "\n",
    "        self.floorThree.header.stamp = self.get_clock().now().to_msg()\n",
    "\n",
    "        self.publisher_.publish(self.markerArr)\n",
    "\n",
    "\n",
    "        return 0"
   ]
  },
  {
   "cell_type": "markdown",
   "id": "8b86b175-eee1-4e1e-ad48-3904085efed1",
   "metadata": {},
   "source": [
    "## Task 3\n",
    "\n",
    "Make a marker for turtle1 and turtle2 and let them follow the position of their respective turtles continuously."
   ]
  },
  {
   "cell_type": "code",
   "execution_count": 13,
   "id": "83785d42-87b6-4c83-96a7-3ac199f2d5cb",
   "metadata": {
    "ExecuteTime": {
     "end_time": "2025-05-04T21:03:43.066804Z",
     "start_time": "2025-05-04T21:03:42.915663Z"
    },
    "tags": [],
    "trusted": true
   },
   "outputs": [
    {
     "name": "stderr",
     "output_type": "stream",
     "text": [
      "[INFO] [1746401019.641799660] [turtle1]: [floor one] Publishing the turtle1 topic. Use RViz to visualize.\n",
      "[INFO] [1746401019.645372005] [turtle1]: [wheel front] Publishing the turtle1 topic. Use RViz to visualize.\n",
      "[INFO] [1746401019.648973623] [turtle1]: [wheel back] Publishing the turtle1 topic. Use RViz to visualize.\n",
      "[INFO] [1746401019.655006375] [turtle1]: [wheel left] Publishing the turtle1 topic. Use RViz to visualize.\n",
      "[INFO] [1746401019.657859898] [turtle1]: [wheel right] Publishing the turtle1 topic. Use RViz to visualize.\n",
      "[INFO] [1746401019.660342228] [turtle1]: [bar one of floor one] Publishing the turtle1 topic. Use RViz to visualize.\n",
      "[INFO] [1746401019.662524909] [turtle1]: [bar two of floor one] Publishing the turtle1 topic. Use RViz to visualize.\n",
      "[INFO] [1746401019.664739673] [turtle1]: [bar three of floor one] Publishing the turtle1 topic. Use RViz to visualize.\n",
      "[INFO] [1746401019.667929399] [turtle1]: [bar four of floor one] Publishing the turtle1 topic. Use RViz to visualize.\n",
      "[INFO] [1746401019.673189935] [turtle1]: [floor two] Publishing the turtle1 topic. Use RViz to visualize.\n",
      "[INFO] [1746401019.676389040] [turtle1]: [bar one of floor two] Publishing the turtle1 topic. Use RViz to visualize.\n",
      "[INFO] [1746401019.679201161] [turtle1]: [bar two of floor two] Publishing the turtle1 topic. Use RViz to visualize.\n",
      "[INFO] [1746401019.682326115] [turtle1]: [bar three of floor two] Publishing the turtle1 topic. Use RViz to visualize.\n",
      "[INFO] [1746401019.689012778] [turtle1]: [bar four of floor two] Publishing the turtle1 topic. Use RViz to visualize.\n",
      "[INFO] [1746401019.692710876] [turtle1]: [floor three] Publishing the turtle1 topic. Use RViz to visualize.\n",
      "[INFO] [1746401019.701819081] [turtle2]: [floor one] Publishing the turtle2 topic. Use RViz to visualize.\n",
      "[INFO] [1746401019.706396591] [turtle2]: [wheel front] Publishing the turtle2 topic. Use RViz to visualize.\n",
      "[INFO] [1746401019.708615592] [turtle2]: [wheel back] Publishing the turtle2 topic. Use RViz to visualize.\n",
      "[INFO] [1746401019.710576885] [turtle2]: [wheel left] Publishing the turtle2 topic. Use RViz to visualize.\n",
      "[INFO] [1746401019.712635250] [turtle2]: [wheel right] Publishing the turtle2 topic. Use RViz to visualize.\n",
      "[INFO] [1746401019.714710193] [turtle2]: [bar one of floor one] Publishing the turtle2 topic. Use RViz to visualize.\n",
      "[INFO] [1746401019.718844816] [turtle2]: [bar two of floor one] Publishing the turtle2 topic. Use RViz to visualize.\n",
      "[INFO] [1746401019.722929086] [turtle2]: [bar three of floor one] Publishing the turtle2 topic. Use RViz to visualize.\n",
      "[INFO] [1746401019.725604687] [turtle2]: [bar four of floor one] Publishing the turtle2 topic. Use RViz to visualize.\n",
      "[INFO] [1746401019.728231151] [turtle2]: [floor two] Publishing the turtle2 topic. Use RViz to visualize.\n",
      "[INFO] [1746401019.731031530] [turtle2]: [bar one of floor two] Publishing the turtle2 topic. Use RViz to visualize.\n",
      "[INFO] [1746401019.734086297] [turtle2]: [bar two of floor two] Publishing the turtle2 topic. Use RViz to visualize.\n",
      "[INFO] [1746401019.739858730] [turtle2]: [bar three of floor two] Publishing the turtle2 topic. Use RViz to visualize.\n",
      "[INFO] [1746401019.743351076] [turtle2]: [bar four of floor two] Publishing the turtle2 topic. Use RViz to visualize.\n",
      "[INFO] [1746401019.746867200] [turtle2]: [floor three] Publishing the turtle2 topic. Use RViz to visualize.\n"
     ]
    }
   ],
   "source": [
    "turtle1 = Turtle(\"turtle1\", 100)\n",
    "turtle2 = Turtle(\"turtle2\", 200)"
   ]
  },
  {
   "cell_type": "code",
   "execution_count": 14,
   "id": "a7bfe093800c6863",
   "metadata": {
    "ExecuteTime": {
     "end_time": "2025-05-04T21:05:04.400428020Z",
     "start_time": "2025-05-04T21:03:44.710039Z"
    }
   },
   "outputs": [
    {
     "data": {
      "text/plain": [
       "0"
      ]
     },
     "execution_count": 14,
     "metadata": {},
     "output_type": "execute_result"
    }
   ],
   "source": [
    "turtle1.publish_turtle()\n",
    "turtle2.publish_turtle()"
   ]
  },
  {
   "cell_type": "code",
   "execution_count": 15,
   "id": "67c6df8b66d160d",
   "metadata": {
    "ExecuteTime": {
     "end_time": "2025-05-04T20:32:56.246386961Z",
     "start_time": "2025-05-04T20:24:31.063878Z"
    }
   },
   "outputs": [
    {
     "ename": "KeyboardInterrupt",
     "evalue": "",
     "output_type": "error",
     "traceback": [
      "\u001b[31m---------------------------------------------------------------------------\u001b[39m",
      "\u001b[31mKeyboardInterrupt\u001b[39m                         Traceback (most recent call last)",
      "\u001b[36mCell\u001b[39m\u001b[36m \u001b[39m\u001b[32mIn[15]\u001b[39m\u001b[32m, line 5\u001b[39m\n\u001b[32m      3\u001b[39m executor.add_node(turtle2)\n\u001b[32m      4\u001b[39m \u001b[38;5;28;01mtry\u001b[39;00m:\n\u001b[32m----> \u001b[39m\u001b[32m5\u001b[39m     \u001b[43mexecutor\u001b[49m\u001b[43m.\u001b[49m\u001b[43mspin\u001b[49m\u001b[43m(\u001b[49m\u001b[43m)\u001b[49m\n\u001b[32m      6\u001b[39m \u001b[38;5;28;01mfinally\u001b[39;00m:\n\u001b[32m      7\u001b[39m     executor.shutdown()\n",
      "\u001b[36mFile \u001b[39m\u001b[32m/opt/ros/jazzy/lib/python3.12/site-packages/rclpy/executors.py:308\u001b[39m, in \u001b[36mExecutor.spin\u001b[39m\u001b[34m(self)\u001b[39m\n\u001b[32m    306\u001b[39m \u001b[38;5;250m\u001b[39m\u001b[33;03m\"\"\"Execute callbacks until shutdown.\"\"\"\u001b[39;00m\n\u001b[32m    307\u001b[39m \u001b[38;5;28;01mwhile\u001b[39;00m \u001b[38;5;28mself\u001b[39m._context.ok() \u001b[38;5;129;01mand\u001b[39;00m \u001b[38;5;129;01mnot\u001b[39;00m \u001b[38;5;28mself\u001b[39m._is_shutdown:\n\u001b[32m--> \u001b[39m\u001b[32m308\u001b[39m     \u001b[38;5;28;43mself\u001b[39;49m\u001b[43m.\u001b[49m\u001b[43mspin_once\u001b[49m\u001b[43m(\u001b[49m\u001b[43m)\u001b[49m\n",
      "\u001b[36mFile \u001b[39m\u001b[32m/opt/ros/jazzy/lib/python3.12/site-packages/rclpy/executors.py:911\u001b[39m, in \u001b[36mMultiThreadedExecutor.spin_once\u001b[39m\u001b[34m(self, timeout_sec)\u001b[39m\n\u001b[32m    910\u001b[39m \u001b[38;5;28;01mdef\u001b[39;00m\u001b[38;5;250m \u001b[39m\u001b[34mspin_once\u001b[39m(\u001b[38;5;28mself\u001b[39m, timeout_sec: Optional[\u001b[38;5;28mfloat\u001b[39m] = \u001b[38;5;28;01mNone\u001b[39;00m) -> \u001b[38;5;28;01mNone\u001b[39;00m:\n\u001b[32m--> \u001b[39m\u001b[32m911\u001b[39m     \u001b[38;5;28;43mself\u001b[39;49m\u001b[43m.\u001b[49m\u001b[43m_spin_once_impl\u001b[49m\u001b[43m(\u001b[49m\u001b[43mtimeout_sec\u001b[49m\u001b[43m)\u001b[49m\n",
      "\u001b[36mFile \u001b[39m\u001b[32m/opt/ros/jazzy/lib/python3.12/site-packages/rclpy/executors.py:890\u001b[39m, in \u001b[36mMultiThreadedExecutor._spin_once_impl\u001b[39m\u001b[34m(self, timeout_sec, wait_condition)\u001b[39m\n\u001b[32m    884\u001b[39m \u001b[38;5;28;01mdef\u001b[39;00m\u001b[38;5;250m \u001b[39m\u001b[34m_spin_once_impl\u001b[39m(\n\u001b[32m    885\u001b[39m     \u001b[38;5;28mself\u001b[39m,\n\u001b[32m    886\u001b[39m     timeout_sec: Optional[Union[\u001b[38;5;28mfloat\u001b[39m, TimeoutObject]] = \u001b[38;5;28;01mNone\u001b[39;00m,\n\u001b[32m    887\u001b[39m     wait_condition: Callable[[], \u001b[38;5;28mbool\u001b[39m] = \u001b[38;5;28;01mlambda\u001b[39;00m: \u001b[38;5;28;01mFalse\u001b[39;00m\n\u001b[32m    888\u001b[39m ) -> \u001b[38;5;28;01mNone\u001b[39;00m:\n\u001b[32m    889\u001b[39m     \u001b[38;5;28;01mtry\u001b[39;00m:\n\u001b[32m--> \u001b[39m\u001b[32m890\u001b[39m         handler, entity, node = \u001b[38;5;28;43mself\u001b[39;49m\u001b[43m.\u001b[49m\u001b[43mwait_for_ready_callbacks\u001b[49m\u001b[43m(\u001b[49m\n\u001b[32m    891\u001b[39m \u001b[43m            \u001b[49m\u001b[43mtimeout_sec\u001b[49m\u001b[43m,\u001b[49m\u001b[43m \u001b[49m\u001b[38;5;28;43;01mNone\u001b[39;49;00m\u001b[43m,\u001b[49m\u001b[43m \u001b[49m\u001b[43mwait_condition\u001b[49m\u001b[43m)\u001b[49m\n\u001b[32m    892\u001b[39m     \u001b[38;5;28;01mexcept\u001b[39;00m ExternalShutdownException:\n\u001b[32m    893\u001b[39m         \u001b[38;5;28;01mpass\u001b[39;00m\n",
      "\u001b[36mFile \u001b[39m\u001b[32m/opt/ros/jazzy/lib/python3.12/site-packages/rclpy/executors.py:793\u001b[39m, in \u001b[36mExecutor.wait_for_ready_callbacks\u001b[39m\u001b[34m(self, *args, **kwargs)\u001b[39m\n\u001b[32m    790\u001b[39m     \u001b[38;5;28mself\u001b[39m._cb_iter = \u001b[38;5;28mself\u001b[39m._wait_for_ready_callbacks(*args, **kwargs)\n\u001b[32m    792\u001b[39m \u001b[38;5;28;01mtry\u001b[39;00m:\n\u001b[32m--> \u001b[39m\u001b[32m793\u001b[39m     \u001b[38;5;28;01mreturn\u001b[39;00m \u001b[38;5;28;43mnext\u001b[39;49m\u001b[43m(\u001b[49m\u001b[38;5;28;43mself\u001b[39;49m\u001b[43m.\u001b[49m\u001b[43m_cb_iter\u001b[49m\u001b[43m)\u001b[49m\n\u001b[32m    794\u001b[39m \u001b[38;5;28;01mexcept\u001b[39;00m \u001b[38;5;167;01mStopIteration\u001b[39;00m:\n\u001b[32m    795\u001b[39m     \u001b[38;5;66;03m# Generator ran out of work\u001b[39;00m\n\u001b[32m    796\u001b[39m     \u001b[38;5;28mself\u001b[39m._cb_iter = \u001b[38;5;28;01mNone\u001b[39;00m\n",
      "\u001b[36mFile \u001b[39m\u001b[32m/opt/ros/jazzy/lib/python3.12/site-packages/rclpy/executors.py:697\u001b[39m, in \u001b[36mExecutor._wait_for_ready_callbacks\u001b[39m\u001b[34m(self, timeout_sec, nodes, condition)\u001b[39m\n\u001b[32m    694\u001b[39m     waitable.add_to_wait_set(wait_set)\n\u001b[32m    696\u001b[39m \u001b[38;5;66;03m# Wait for something to become ready\u001b[39;00m\n\u001b[32m--> \u001b[39m\u001b[32m697\u001b[39m \u001b[43mwait_set\u001b[49m\u001b[43m.\u001b[49m\u001b[43mwait\u001b[49m\u001b[43m(\u001b[49m\u001b[43mtimeout_nsec\u001b[49m\u001b[43m)\u001b[49m\n\u001b[32m    698\u001b[39m \u001b[38;5;28;01mif\u001b[39;00m \u001b[38;5;28mself\u001b[39m._is_shutdown:\n\u001b[32m    699\u001b[39m     \u001b[38;5;28;01mraise\u001b[39;00m ShutdownException()\n",
      "\u001b[31mKeyboardInterrupt\u001b[39m: "
     ]
    }
   ],
   "source": [
    "executor = rclpy.executors.MultiThreadedExecutor()\n",
    "executor.add_node(turtle1)\n",
    "executor.add_node(turtle2)\n",
    "try:\n",
    "    executor.spin()\n",
    "finally:\n",
    "    executor.shutdown()\n",
    "    turtle1.destroy_node()\n",
    "    turtle2.destroy_node()\n",
    "    rclpy.shutdown()"
   ]
  }
 ],
 "metadata": {
  "kernelspec": {
   "display_name": ".rpwr_venv",
   "language": "python",
   "name": "python3"
  },
  "language_info": {
   "codemirror_mode": {
    "name": "ipython",
    "version": 3
   },
   "file_extension": ".py",
   "mimetype": "text/x-python",
   "name": "python",
   "nbconvert_exporter": "python",
   "pygments_lexer": "ipython3",
   "version": "3.12.3"
  }
 },
 "nbformat": 4,
 "nbformat_minor": 5
}
