{
 "cells": [
  {
   "cell_type": "markdown",
   "id": "6db1d720-a7b6-48e3-b1a9-bfa77f7dda85",
   "metadata": {
    "slideshow": {
     "slide_type": "slide"
    },
    "tags": []
   },
   "source": [
    "# Assignment 1 - Git, Linux, Python\n",
    "\n",
    "Welcome to assignment 1 of the Robot Programming with ROS course."
   ]
  },
  {
   "cell_type": "markdown",
   "id": "43911505-47b4-4951-af6f-00e7aff3afc7",
   "metadata": {
    "slideshow": {
     "slide_type": "fragment"
    },
    "tags": []
   },
   "source": [
    "In this assignment we will set up your PC for the next assignments."
   ]
  },
  {
   "cell_type": "markdown",
   "id": "4cf943c1-7ac4-4534-bbb6-e6e43143187c",
   "metadata": {
    "slideshow": {
     "slide_type": "fragment"
    },
    "tags": []
   },
   "source": [
    "And you will learn basics about Linux and Python."
   ]
  },
  {
   "cell_type": "markdown",
   "id": "766c55e6-2587-4212-a6e7-49defa2da267",
   "metadata": {
    "slideshow": {
     "slide_type": "slide"
    },
    "tags": []
   },
   "source": [
    "After this assignment you will understand how to\n",
    "* set up a git repository\n",
    "* navigate in a bash terminal\n",
    "* write simple python code"
   ]
  },
  {
   "cell_type": "markdown",
   "id": "2c14e225-047c-4e13-9924-dbd771b6236b",
   "metadata": {
    "slideshow": {
     "slide_type": "slide"
    },
    "tags": []
   },
   "source": [
    "## Git"
   ]
  },
  {
   "cell_type": "markdown",
   "id": "2aabe9f5-648d-4180-9500-24a172bb3491",
   "metadata": {
    "slideshow": {
     "slide_type": "slide"
    },
    "tags": []
   },
   "source": [
    " ### Installation"
   ]
  },
  {
   "cell_type": "markdown",
   "id": "d04efa99-4e49-45b7-bf9e-dd0b50a2b4c6",
   "metadata": {
    "slideshow": {
     "slide_type": "fragment"
    },
    "tags": []
   },
   "source": [
    "Git provides version-control of changing code. A Git repository is a storage place for code. \n",
    "\n",
    "With Git it is easy to manage group projects and keep track of changes.\n",
    "\n",
    "https://git-scm.com/book/en/v2/Getting-Started-Installing-Git"
   ]
  },
  {
   "cell_type": "markdown",
   "id": "d6d88b1d-e1c0-4d64-985a-36418c9473f4",
   "metadata": {
    "slideshow": {
     "slide_type": "slide"
    },
    "tags": []
   },
   "source": [
    "Using Git via command line interface (CLI) provides the best experience to understand how it works. \n",
    "\n",
    "There are also Git clients with a GUI.\n",
    "\n",
    "This lecture will only cover the CLI commands for Git."
   ]
  },
  {
   "cell_type": "markdown",
   "id": "8361fc4e-cfdf-4a61-880d-38847e7f7311",
   "metadata": {
    "slideshow": {
     "slide_type": "slide"
    },
    "tags": []
   },
   "source": [
    "### GitHub setup"
   ]
  },
  {
   "cell_type": "markdown",
   "id": "89c9a392-618a-42b5-a5b1-f6ff1420c3f7",
   "metadata": {
    "slideshow": {
     "slide_type": "fragment"
    },
    "tags": []
   },
   "source": [
    "Create an account on GitHub if you don't have one: https://github.com/\n",
    "\n",
    "Create a new repository, call it **rpwl-assignments**\n",
    "\n",
    "Make it private.\n",
    "\n",
    "In project *Settings* ->  *Collaborators* add *Arthur Niedzwiecki (artnie)* as collaborator."
   ]
  },
  {
   "cell_type": "markdown",
   "id": "ad7e0fe2-25fe-425d-a068-008dbe44a8b7",
   "metadata": {
    "slideshow": {
     "slide_type": "slide"
    },
    "tags": []
   },
   "source": [
    "Learn about SSH Keys:\n",
    "\n",
    "https://docs.github.com/en/authentication/connecting-to-github-with-ssh\n",
    "\n",
    "By [adding a new SSH key to your GitHub account](https://docs.github.com/en/authentication/connecting-to-github-with-ssh/adding-a-new-ssh-key-to-your-github-account) you create a key-lock pair from your PC to your GitHub account."
   ]
  },
  {
   "cell_type": "markdown",
   "id": "826f64a2-3e4f-4b92-8500-19735db2b088",
   "metadata": {
    "slideshow": {
     "slide_type": "slide"
    },
    "tags": []
   },
   "source": [
    "1. On your PC, choose where to put the lectures project.\n",
    "\n",
    "`cd into/the/desired/directory`"
   ]
  },
  {
   "cell_type": "markdown",
   "id": "1477ffbe-b720-4ab3-8bd5-7384fde41501",
   "metadata": {
    "slideshow": {
     "slide_type": "subslide"
    },
    "tags": []
   },
   "source": [
    "2. Download (clone) the course material:\n",
    "\n",
    "`git clone https://github.com/artnie/rpwr-assignments.git`"
   ]
  },
  {
   "cell_type": "markdown",
   "id": "09032834-77b7-4a8a-9efb-4fdf9236fdd6",
   "metadata": {
    "slideshow": {
     "slide_type": "subslide"
    },
    "tags": []
   },
   "source": [
    "3. Change directory (cd) into the downloaded folder\n",
    "\n",
    "`cd rpwr-assignments`"
   ]
  },
  {
   "cell_type": "markdown",
   "id": "c23adbc3-91c6-4c87-b636-547062867db5",
   "metadata": {
    "slideshow": {
     "slide_type": "subslide"
    },
    "tags": []
   },
   "source": [
    "4. Define a remote target with the address of your new GitHub repo.\n",
    "\n",
    "Replace **YOUR_GITHUB_USERNAME** in the following command\n",
    "\n",
    "`git remote add my git@github.com:YOUR_GITHUB_USERNAME/rpwr-assignments.git`"
   ]
  },
  {
   "cell_type": "markdown",
   "id": "3829a415-a3ad-4ab1-ac17-2e87ed0cbcd6",
   "metadata": {
    "slideshow": {
     "slide_type": "subslide"
    },
    "tags": []
   },
   "source": [
    "5. Upload the files to your new GitHub repository:\n",
    "\n",
    "`git push -u my main`"
   ]
  },
  {
   "cell_type": "code",
   "execution_count": null,
   "id": "ba6fa8b7-bb49-4c73-941a-4ba30bb07303",
   "metadata": {},
   "outputs": [],
   "source": []
  }
 ],
 "metadata": {
  "kernelspec": {
   "display_name": "Python 3 (ipykernel)",
   "language": "python",
   "name": "python3"
  },
  "language_info": {
   "codemirror_mode": {
    "name": "ipython",
    "version": 3
   },
   "file_extension": ".py",
   "mimetype": "text/x-python",
   "name": "python",
   "nbconvert_exporter": "python",
   "pygments_lexer": "ipython3",
   "version": "3.10.6"
  }
 },
 "nbformat": 4,
 "nbformat_minor": 5
}
