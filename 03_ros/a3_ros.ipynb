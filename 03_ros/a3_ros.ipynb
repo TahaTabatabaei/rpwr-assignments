{
 "cells": [
  {
   "cell_type": "markdown",
   "id": "560f5f7c-d645-47a9-b73a-21913d193b38",
   "metadata": {},
   "source": [
    "# Assignment 3 - ROS\n",
    "\n",
    "8 points\n",
    "\n",
    "## Setting up your own TurtleSim\n",
    "\n",
    "In this assignment you will set up the system yourself so that you have your own extensible 3D TurtleSim in Rvizweb. You will learn how to work with ROS and what automations and tools ROS offers. At the end you should come out with a tutorial or a program through which everything necessary will be started."
   ]
  },
  {
   "cell_type": "markdown",
   "id": "93ac4281-cc0c-43a3-b162-c893eaa337d2",
   "metadata": {
    "tags": []
   },
   "source": [
    "## ROS tutorials\n",
    "\n",
    "Work through the beginner tutorial: https://wiki.ros.org/ROS/Tutorials\n",
    "\n",
    "Interesting are the chapters 1 to 8, 12 and 15.\n",
    "\n",
    "Because we visualize via rvizweb, some conflicts with the tutorial arise.\n",
    " - Chapter 6 Understanding ROS Topics - Setup\n",
    "```bash\n",
    "roslaunch turtle_tf turtle_tf_demo.launch\n",
    "# and set up Rvizweb\n",
    "```\n",
    "- Chapter 6 Understanding ROS Topics - rqt_graph\n",
    "```bash\n",
    "# Use RosGraph instead of rqt_graph. You can find RosGraph in the JupyterLab-Launcher.\n",
    "```\n",
    "\n",
    "- Chapter 6 Understanding ROS Topics - rqt_plot\n",
    "```bash\n",
    "# Skip. rqt_plot isn't implemented in this binder. If you have ROS installed on your computer, you are free to test it\n",
    "```\n",
    "\n",
    "- Chapter 7 Understanding ROS Services and Parameters - Services\n",
    "```bash\n",
    "# turtlesim /spawn service doesnt work without tf in Rvizweb. Additional to spawning, start the tf broadcaster:\n",
    "rosservice call /spawn 2 2 0.2 \"turtle3\"\n",
    "rosrun turtle_tf turtle_tf_broadcaster turtle3\n",
    "```\n",
    "\n",
    "- Chapter 8 Using rqt_console and roslaunch - rqt_console\n",
    "```bash\n",
    "# Skip rqt_console.\n",
    "```\n",
    "\n",
    "If you have any further problems, please feel free to ask questions via email or discord."
   ]
  },
  {
   "cell_type": "markdown",
   "id": "1b7ca26a-447f-4b9c-af90-1afc5adb691c",
   "metadata": {
    "tags": []
   },
   "source": [
    "## TF tutorials\n",
    "\n",
    "Work through the python tutorial: https://wiki.ros.org/tf/Tutorials\n",
    "\n",
    "Important are the chapters:\n",
    "- Writing a tf broadcaster (Python)\n",
    "- Writing a tf listener (Python)\n",
    "- Adding a frame (Python)\n",
    "\n",
    "### Hint\n",
    "```python\n",
    "import roslib\n",
    "roslib.load_manifest('learning_tf')\n",
    "```\n",
    "is not required and should be removed."
   ]
  },
  {
   "cell_type": "markdown",
   "id": "e1a0622c-d0d5-4081-8060-82107ca347a5",
   "metadata": {
    "tags": []
   },
   "source": [
    "# Tasks\n",
    "\n",
    "## Task - Your own TurtleSim\n",
    "\n",
    "Create your own TurtleSim in Rvizweb. Each new turtle should follow its predecessor as /turtle2 follows /turtle1 from assignment 2. Implement a structure of JupyterNotebooks, python files, launch files, shell scripts such that there is\n",
    "- a TF Broadcaster,\n",
    "- a TF listener, \n",
    "- a static frame, translating the world frame in map so that the walls are surrounding the ground grid in Rvizweb\n",
    "\n",
    "You can use the code of the ROS and TF tutorials and your own code from assignment 2 to visualize the turtles.\n",
    "\n",
    "Write a README on how to run your assignment solution. The more elegant the implementation the more points.\n",
    "\n",
    "### Hints\n",
    "\n",
    "With\n",
    "```bash\n",
    "roscd; cd ..\n",
    "```\n",
    "you get into the root directory of the workspace.\n",
    "\n",
    "When JupyterLab is started, you are already in a ROS package. The package is called pycram. All launch files and executables are found by ROS and can be executed via terminal."
   ]
  },
  {
   "cell_type": "code",
   "execution_count": null,
   "id": "65d79e57-20ea-447f-85cf-79637427d4d0",
   "metadata": {},
   "outputs": [],
   "source": []
  }
 ],
 "metadata": {
  "kernelspec": {
   "display_name": "Python 3 (ipykernel)",
   "language": "python",
   "name": "python3"
  },
  "language_info": {
   "codemirror_mode": {
    "name": "ipython",
    "version": 3
   },
   "file_extension": ".py",
   "mimetype": "text/x-python",
   "name": "python",
   "nbconvert_exporter": "python",
   "pygments_lexer": "ipython3",
   "version": "3.10.6"
  }
 },
 "nbformat": 4,
 "nbformat_minor": 5
}
