{
 "cells": [
  {
   "cell_type": "markdown",
   "id": "560f5f7c-d645-47a9-b73a-21913d193b38",
   "metadata": {},
   "source": [
    "# Assignment 4 - Kinematics\n",
    "\n",
    "This assignment will be all about joint states, robot descriptions and kinematics. We start off with a questionnaire, then we move on on to designing and moving a robot.\n",
    "\n",
    "1. [Questionnaire](a4_kinematics-questions.ipynb) \n",
    "2. [Robot Design](a4_kinematics-design.ipynb)\n",
    "3. [Arm Kinematics](a4_kinematics-arm.ipynb)\n",
    "\n",
    "\n",
    "Tutorial to build your own URDF https://wiki.ros.org/urdf/Tutorials. Replace the R2D2 gripper meshes with \"package://pr2_description/meshes/gripper_v0/l_finger.dae\" as they mention at the end, to visualize them properly.\n",
    "\n",
    "Submit the Notebooks and the URDF."
   ]
  }
 ],
 "metadata": {
  "kernelspec": {
   "display_name": "Python 3 (ipykernel)",
   "language": "python",
   "name": "python3"
  },
  "language_info": {
   "codemirror_mode": {
    "name": "ipython",
    "version": 3
   },
   "file_extension": ".py",
   "mimetype": "text/x-python",
   "name": "python",
   "nbconvert_exporter": "python",
   "pygments_lexer": "ipython3",
   "version": "3.10.6"
  }
 },
 "nbformat": 4,
 "nbformat_minor": 5
}
