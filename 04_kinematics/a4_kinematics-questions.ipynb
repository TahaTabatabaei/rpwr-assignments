{
 "cells": [
  {
   "cell_type": "markdown",
   "id": "560f5f7c-d645-47a9-b73a-21913d193b38",
   "metadata": {},
   "source": [
    "# Assignment 4 - Kinematics - Questionnaire\n",
    "\n",
    "This is part 1 of assignment 4 about kinematics.\n",
    "\n",
    "Answer the questions below. Go back to the lecture slides to answer them. Always explain your answer, there may be more sense in it at a second glance. Stay brief and precise.\n"
   ]
  },
  {
   "cell_type": "markdown",
   "id": "cb0e450c-ad39-4161-aa67-e7009c02cd0b",
   "metadata": {},
   "source": [
    "## State Space\n",
    "\n",
    "Explain the following state space terms:\n",
    "\n",
    "Configuration Space\n",
    "```\n",
    "# Your explanation\n",
    "\n",
    "```\n",
    "\n",
    "Task Space\n",
    "```\n",
    "# Your explanation\n",
    "\n",
    "```\n",
    "\n",
    "Holonomicity (holonomic, non-holonomic)\n",
    "```\n",
    "# Your explanation\n",
    "\n",
    "```"
   ]
  },
  {
   "cell_type": "markdown",
   "id": "322736df-165e-4c86-bdf5-bc64adb29974",
   "metadata": {},
   "source": [
    "\n",
    "## Degrees of Freedom\n",
    "\n",
    "How many degrees of freedom do the following have:\n",
    "* Train\n",
    "```\n",
    "# Your explanation\n",
    "\n",
    "```\n",
    "\n",
    "* Car\n",
    "```\n",
    "# Your explanation\n",
    "\n",
    "```\n",
    "\n",
    "* Helicopter\n",
    "```\n",
    "# Your explanation\n",
    "\n",
    "```\n",
    "\n"
   ]
  },
  {
   "cell_type": "markdown",
   "id": "d70b6000-3e90-445c-9153-8733496a060c",
   "metadata": {},
   "source": [
    "\n",
    "How many degrees of freedom do we need for the following:\n",
    "* move a book on a shelf? (Assuming the robot arm stays on the same height.)\n",
    "```\n",
    "# Your explanation\n",
    "\n",
    "```\n",
    "\n",
    "* fix a screw? (Assuming the robot arm is at the necessary pose.)\n",
    "```\n",
    "# Your explanation\n",
    "\n",
    "```\n",
    "\n",
    "* stack cartons on pallets? (Assuming we have a plane surface.)\n",
    "```\n",
    "# Your explanation\n",
    "\n",
    "```\n"
   ]
  },
  {
   "cell_type": "markdown",
   "id": "8c749262-4f9c-4a64-b930-11c53dbee5ad",
   "metadata": {},
   "source": [
    "Move on to the next part on [robot design](a4_kinematics-design.ipynb)."
   ]
  }
 ],
 "metadata": {
  "kernelspec": {
   "display_name": "Python 3 (ipykernel)",
   "language": "python",
   "name": "python3"
  },
  "language_info": {
   "codemirror_mode": {
    "name": "ipython",
    "version": 3
   },
   "file_extension": ".py",
   "mimetype": "text/x-python",
   "name": "python",
   "nbconvert_exporter": "python",
   "pygments_lexer": "ipython3",
   "version": "3.10.6"
  }
 },
 "nbformat": 4,
 "nbformat_minor": 5
}
