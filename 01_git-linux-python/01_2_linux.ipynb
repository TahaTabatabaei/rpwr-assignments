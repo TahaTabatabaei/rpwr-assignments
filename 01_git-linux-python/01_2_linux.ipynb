{
 "cells": [
  {
   "cell_type": "markdown",
   "id": "6db1d720-a7b6-48e3-b1a9-bfa77f7dda85",
   "metadata": {
    "slideshow": {
     "slide_type": "slide"
    },
    "tags": []
   },
   "source": [
    "# Assignment 1-2 Linux\n",
    "\n",
    "Linux describes a style of operating systems. Robot software runs primarily on Linux systems.\n",
    "\n",
    "We have provided a Linux machine for you.\n",
    "\n",
    "Go to https://binder.intel4coro.de/v2/gh/artnie/pycram/binder\n",
    "\n",
    "From the Launcher, open a new Terminal.\n",
    "\n",
    "Follow the following tutorial https://ubuntu.com/tutorials/command-line-for-beginners#1-overview"
   ]
  },
  {
   "cell_type": "markdown",
   "id": "7821ee4d-feaf-4e9b-bd94-7d0745090f1a",
   "metadata": {},
   "source": [
    "## Exercise - Bash Commands\n",
    "\n",
    "Drag & Drop the `into_the_dungeon.zip` folder from you local repository into Jupyter. The following code will unzip it:"
   ]
  },
  {
   "cell_type": "code",
   "execution_count": null,
   "id": "69970d3a-baee-463f-89b5-3be8e26b01e1",
   "metadata": {
    "tags": []
   },
   "outputs": [],
   "source": [
    "import zipfile as zf\n",
    "files = zf.ZipFile(\"into_the_dungeon.zip\", 'r')\n",
    "files.extractall('.')\n",
    "files.close()"
   ]
  },
  {
   "cell_type": "markdown",
   "id": "666406b7-2152-4555-a342-9d60c285a3e9",
   "metadata": {},
   "source": [
    "1. Open a new terminal and `cd into_the_dungeon`, then explore it using the command line.\n",
    "\n",
    "2. List and shortly describe the function of the commands you used. Check `cat ~/.bash_history` to get the full record.\n",
    "\n",
    "```bash\n",
    "## Your commands go here:\n",
    "\n",
    "\n",
    "```\n",
    "\n",
    "\n",
    "3. Download this file (`01_2_linux.ipynb`) to your local repository.\n",
    "\n"
   ]
  },
  {
   "cell_type": "markdown",
   "id": "1c046f05-b3dd-4cdd-9f8d-2785ca85c3f6",
   "metadata": {},
   "source": [
    "4. Download the `backpack` file.\n",
    "\n",
    "5. Submit your solution to your GitHub repository"
   ]
  },
  {
   "cell_type": "markdown",
   "id": "eada1683-1ac4-4ffd-b37e-a3d3c587c680",
   "metadata": {},
   "source": [
    "## Submit your solution\n",
    "\n",
    "To submit your solution, go to your local repository\n",
    "\n",
    "`cd to/your/local/repository/rpwr-assignments`\n",
    "\n",
    "Get the latest update from the origin repository\n",
    "\n",
    "`git pull origin`\n",
    "\n",
    "Specify which files you want to submit:\n",
    "\n",
    "`git add 01_2_linux.ipynb backpack`\n",
    "\n",
    "Wrap it up as one update, and give it a thoughtful description\n",
    "\n",
    "`git commit -m \"I should change this message to something meaningful.\"`\n",
    "\n",
    "Push the new commit to your remote GitHub repository\n",
    "\n",
    "`git push`\n",
    "\n",
    "Go to your repository on GitHub and check, if commit is really pushed."
   ]
  }
 ],
 "metadata": {
  "kernelspec": {
   "display_name": "Python 3 (ipykernel)",
   "language": "python",
   "name": "python3"
  },
  "language_info": {
   "codemirror_mode": {
    "name": "ipython",
    "version": 3
   },
   "file_extension": ".py",
   "mimetype": "text/x-python",
   "name": "python",
   "nbconvert_exporter": "python",
   "pygments_lexer": "ipython3",
   "version": "3.10.6"
  }
 },
 "nbformat": 4,
 "nbformat_minor": 5
}
